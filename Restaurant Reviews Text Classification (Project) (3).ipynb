{
 "cells": [
  {
   "cell_type": "markdown",
   "metadata": {},
   "source": [
    "# Restaurant Reviews Text Classification (Project)"
   ]
  },
  {
   "cell_type": "code",
   "execution_count": 4,
   "metadata": {
    "papermill": {
     "duration": 0.015507,
     "end_time": "2020-09-08T15:02:15.961802",
     "exception": false,
     "start_time": "2020-09-08T15:02:15.946295",
     "status": "completed"
    },
    "tags": []
   },
   "outputs": [],
   "source": [
    "# Importing necessary Libraries"
   ]
  },
  {
   "cell_type": "code",
   "execution_count": 5,
   "metadata": {
    "execution": {
     "iopub.execute_input": "2020-09-08T15:02:16.006543Z",
     "iopub.status.busy": "2020-09-08T15:02:16.005581Z",
     "iopub.status.idle": "2020-09-08T15:02:17.524968Z",
     "shell.execute_reply": "2020-09-08T15:02:17.523949Z"
    },
    "papermill": {
     "duration": 1.547319,
     "end_time": "2020-09-08T15:02:17.525097",
     "exception": false,
     "start_time": "2020-09-08T15:02:15.977778",
     "status": "completed"
    },
    "tags": []
   },
   "outputs": [],
   "source": [
    "import numpy as np\n",
    "import pandas as pd\n",
    "import seaborn as sb\n",
    "import matplotlib.pyplot as plt"
   ]
  },
  {
   "cell_type": "code",
   "execution_count": 6,
   "metadata": {},
   "outputs": [],
   "source": [
    "from sklearn.model_selection import train_test_split\n",
    "import warnings\n",
    "warnings.filterwarnings('ignore')\n",
    "import re\n",
    "from nltk.corpus import stopwords\n",
    "from sklearn.feature_extraction.text import CountVectorizer\n",
    "from sklearn.feature_extraction.text import TfidfVectorizer"
   ]
  },
  {
   "cell_type": "code",
   "execution_count": 7,
   "metadata": {
    "papermill": {
     "duration": 0.010766,
     "end_time": "2020-09-08T15:02:17.548063",
     "exception": false,
     "start_time": "2020-09-08T15:02:17.537297",
     "status": "completed"
    },
    "tags": []
   },
   "outputs": [],
   "source": [
    "# Loading the dataset"
   ]
  },
  {
   "cell_type": "code",
   "execution_count": 8,
   "metadata": {
    "execution": {
     "iopub.execute_input": "2020-09-08T15:02:17.581976Z",
     "iopub.status.busy": "2020-09-08T15:02:17.581390Z",
     "iopub.status.idle": "2020-09-08T15:02:22.309350Z",
     "shell.execute_reply": "2020-09-08T15:02:22.309864Z"
    },
    "papermill": {
     "duration": 4.750535,
     "end_time": "2020-09-08T15:02:22.309995",
     "exception": false,
     "start_time": "2020-09-08T15:02:17.559460",
     "status": "completed"
    },
    "scrolled": true,
    "tags": []
   },
   "outputs": [],
   "source": [
    "data=pd.read_csv(\"D:\\Data science\\Datasets\\\\restaurant_data.csv\")"
   ]
  },
  {
   "cell_type": "code",
   "execution_count": 9,
   "metadata": {},
   "outputs": [
    {
     "data": {
      "text/html": [
       "<div>\n",
       "<style scoped>\n",
       "    .dataframe tbody tr th:only-of-type {\n",
       "        vertical-align: middle;\n",
       "    }\n",
       "\n",
       "    .dataframe tbody tr th {\n",
       "        vertical-align: top;\n",
       "    }\n",
       "\n",
       "    .dataframe thead th {\n",
       "        text-align: right;\n",
       "    }\n",
       "</style>\n",
       "<table border=\"1\" class=\"dataframe\">\n",
       "  <thead>\n",
       "    <tr style=\"text-align: right;\">\n",
       "      <th></th>\n",
       "      <th>name</th>\n",
       "      <th>online_order</th>\n",
       "      <th>book_table</th>\n",
       "      <th>rate</th>\n",
       "      <th>votes</th>\n",
       "      <th>rest_type</th>\n",
       "      <th>cuisines</th>\n",
       "      <th>approx_cost(for two people)</th>\n",
       "      <th>reviews_list</th>\n",
       "      <th>menu_item</th>\n",
       "      <th>listed_in(type)</th>\n",
       "    </tr>\n",
       "  </thead>\n",
       "  <tbody>\n",
       "    <tr>\n",
       "      <th>0</th>\n",
       "      <td>Eat &amp; Joy Restaurant</td>\n",
       "      <td>Yes</td>\n",
       "      <td>No</td>\n",
       "      <td>3.0/5</td>\n",
       "      <td>7</td>\n",
       "      <td>NaN</td>\n",
       "      <td>Fast Food, Finger Food</td>\n",
       "      <td>300</td>\n",
       "      <td>[('Rated 1.0', 'RATED\\n  I had ordered for one...</td>\n",
       "      <td>[]</td>\n",
       "      <td>Delivery</td>\n",
       "    </tr>\n",
       "    <tr>\n",
       "      <th>1</th>\n",
       "      <td>Corner Huts</td>\n",
       "      <td>Yes</td>\n",
       "      <td>No</td>\n",
       "      <td>3.8/5</td>\n",
       "      <td>30</td>\n",
       "      <td>Quick Bites</td>\n",
       "      <td>North Indian, Chinese, Biryani, South Indian</td>\n",
       "      <td>300</td>\n",
       "      <td>[('Rated 4.0', 'RATED\\n  I was at this place f...</td>\n",
       "      <td>['Tandoori Chicken', 'Paneer Tikka Masala', 'B...</td>\n",
       "      <td>Dine-out</td>\n",
       "    </tr>\n",
       "    <tr>\n",
       "      <th>2</th>\n",
       "      <td>Oregano Soul Food</td>\n",
       "      <td>Yes</td>\n",
       "      <td>No</td>\n",
       "      <td>4.1/5</td>\n",
       "      <td>142</td>\n",
       "      <td>Cafe</td>\n",
       "      <td>Cafe</td>\n",
       "      <td>700</td>\n",
       "      <td>[('Rated 5.0', 'RATED\\n  Loved the place. Awes...</td>\n",
       "      <td>[]</td>\n",
       "      <td>Dine-out</td>\n",
       "    </tr>\n",
       "    <tr>\n",
       "      <th>3</th>\n",
       "      <td>Momo Time</td>\n",
       "      <td>Yes</td>\n",
       "      <td>No</td>\n",
       "      <td>NaN</td>\n",
       "      <td>0</td>\n",
       "      <td>Quick Bites</td>\n",
       "      <td>Momos, Chinese</td>\n",
       "      <td>300</td>\n",
       "      <td>[]</td>\n",
       "      <td>[]</td>\n",
       "      <td>Dine-out</td>\n",
       "    </tr>\n",
       "    <tr>\n",
       "      <th>4</th>\n",
       "      <td>Pepperwood</td>\n",
       "      <td>Yes</td>\n",
       "      <td>No</td>\n",
       "      <td>3.7 /5</td>\n",
       "      <td>136</td>\n",
       "      <td>Quick Bites</td>\n",
       "      <td>Biryani, Rolls</td>\n",
       "      <td>300</td>\n",
       "      <td>[('Rated 3.0', 'RATED\\n  Got delivery from thi...</td>\n",
       "      <td>[]</td>\n",
       "      <td>Dine-out</td>\n",
       "    </tr>\n",
       "  </tbody>\n",
       "</table>\n",
       "</div>"
      ],
      "text/plain": [
       "                   name online_order book_table    rate  votes    rest_type  \\\n",
       "0  Eat & Joy Restaurant          Yes         No   3.0/5      7          NaN   \n",
       "1           Corner Huts          Yes         No   3.8/5     30  Quick Bites   \n",
       "2     Oregano Soul Food          Yes         No   4.1/5    142         Cafe   \n",
       "3             Momo Time          Yes         No     NaN      0  Quick Bites   \n",
       "4            Pepperwood          Yes         No  3.7 /5    136  Quick Bites   \n",
       "\n",
       "                                       cuisines approx_cost(for two people)  \\\n",
       "0                        Fast Food, Finger Food                         300   \n",
       "1  North Indian, Chinese, Biryani, South Indian                         300   \n",
       "2                                          Cafe                         700   \n",
       "3                                Momos, Chinese                         300   \n",
       "4                                Biryani, Rolls                         300   \n",
       "\n",
       "                                        reviews_list  \\\n",
       "0  [('Rated 1.0', 'RATED\\n  I had ordered for one...   \n",
       "1  [('Rated 4.0', 'RATED\\n  I was at this place f...   \n",
       "2  [('Rated 5.0', 'RATED\\n  Loved the place. Awes...   \n",
       "3                                                 []   \n",
       "4  [('Rated 3.0', 'RATED\\n  Got delivery from thi...   \n",
       "\n",
       "                                           menu_item listed_in(type)  \n",
       "0                                                 []        Delivery  \n",
       "1  ['Tandoori Chicken', 'Paneer Tikka Masala', 'B...        Dine-out  \n",
       "2                                                 []        Dine-out  \n",
       "3                                                 []        Dine-out  \n",
       "4                                                 []        Dine-out  "
      ]
     },
     "execution_count": 9,
     "metadata": {},
     "output_type": "execute_result"
    }
   ],
   "source": [
    "data.head() "
   ]
  },
  {
   "cell_type": "code",
   "execution_count": 10,
   "metadata": {},
   "outputs": [
    {
     "data": {
      "text/plain": [
       "(25151, 11)"
      ]
     },
     "execution_count": 10,
     "metadata": {},
     "output_type": "execute_result"
    }
   ],
   "source": [
    "data.shape"
   ]
  },
  {
   "cell_type": "code",
   "execution_count": 11,
   "metadata": {
    "execution": {
     "iopub.execute_input": "2020-09-08T15:02:22.418135Z",
     "iopub.status.busy": "2020-09-08T15:02:22.417275Z",
     "iopub.status.idle": "2020-09-08T15:02:22.435366Z",
     "shell.execute_reply": "2020-09-08T15:02:22.435891Z"
    },
    "papermill": {
     "duration": 0.114549,
     "end_time": "2020-09-08T15:02:22.436020",
     "exception": false,
     "start_time": "2020-09-08T15:02:22.321471",
     "status": "completed"
    },
    "tags": []
   },
   "outputs": [
    {
     "name": "stdout",
     "output_type": "stream",
     "text": [
      "<class 'pandas.core.frame.DataFrame'>\n",
      "RangeIndex: 25151 entries, 0 to 25150\n",
      "Data columns (total 11 columns):\n",
      " #   Column                       Non-Null Count  Dtype \n",
      "---  ------                       --------------  ----- \n",
      " 0   name                         25151 non-null  object\n",
      " 1   online_order                 25151 non-null  object\n",
      " 2   book_table                   25151 non-null  object\n",
      " 3   rate                         21428 non-null  object\n",
      " 4   votes                        25151 non-null  int64 \n",
      " 5   rest_type                    25051 non-null  object\n",
      " 6   cuisines                     25129 non-null  object\n",
      " 7   approx_cost(for two people)  24984 non-null  object\n",
      " 8   reviews_list                 25151 non-null  object\n",
      " 9   menu_item                    25151 non-null  object\n",
      " 10  listed_in(type)              25151 non-null  object\n",
      "dtypes: int64(1), object(10)\n",
      "memory usage: 2.1+ MB\n"
     ]
    }
   ],
   "source": [
    "data.info()"
   ]
  },
  {
   "cell_type": "code",
   "execution_count": 12,
   "metadata": {},
   "outputs": [
    {
     "data": {
      "text/html": [
       "<div>\n",
       "<style scoped>\n",
       "    .dataframe tbody tr th:only-of-type {\n",
       "        vertical-align: middle;\n",
       "    }\n",
       "\n",
       "    .dataframe tbody tr th {\n",
       "        vertical-align: top;\n",
       "    }\n",
       "\n",
       "    .dataframe thead th {\n",
       "        text-align: right;\n",
       "    }\n",
       "</style>\n",
       "<table border=\"1\" class=\"dataframe\">\n",
       "  <thead>\n",
       "    <tr style=\"text-align: right;\">\n",
       "      <th></th>\n",
       "      <th>votes</th>\n",
       "    </tr>\n",
       "  </thead>\n",
       "  <tbody>\n",
       "    <tr>\n",
       "      <th>count</th>\n",
       "      <td>25151.000000</td>\n",
       "    </tr>\n",
       "    <tr>\n",
       "      <th>mean</th>\n",
       "      <td>282.028031</td>\n",
       "    </tr>\n",
       "    <tr>\n",
       "      <th>std</th>\n",
       "      <td>778.038300</td>\n",
       "    </tr>\n",
       "    <tr>\n",
       "      <th>min</th>\n",
       "      <td>0.000000</td>\n",
       "    </tr>\n",
       "    <tr>\n",
       "      <th>25%</th>\n",
       "      <td>7.000000</td>\n",
       "    </tr>\n",
       "    <tr>\n",
       "      <th>50%</th>\n",
       "      <td>41.000000</td>\n",
       "    </tr>\n",
       "    <tr>\n",
       "      <th>75%</th>\n",
       "      <td>198.000000</td>\n",
       "    </tr>\n",
       "    <tr>\n",
       "      <th>max</th>\n",
       "      <td>16345.000000</td>\n",
       "    </tr>\n",
       "  </tbody>\n",
       "</table>\n",
       "</div>"
      ],
      "text/plain": [
       "              votes\n",
       "count  25151.000000\n",
       "mean     282.028031\n",
       "std      778.038300\n",
       "min        0.000000\n",
       "25%        7.000000\n",
       "50%       41.000000\n",
       "75%      198.000000\n",
       "max    16345.000000"
      ]
     },
     "execution_count": 12,
     "metadata": {},
     "output_type": "execute_result"
    }
   ],
   "source": [
    "data.describe()"
   ]
  },
  {
   "cell_type": "code",
   "execution_count": 13,
   "metadata": {},
   "outputs": [
    {
     "data": {
      "text/plain": [
       "Index(['name', 'online_order', 'book_table', 'rate', 'votes', 'rest_type',\n",
       "       'cuisines', 'approx_cost(for two people)', 'reviews_list', 'menu_item',\n",
       "       'listed_in(type)'],\n",
       "      dtype='object')"
      ]
     },
     "execution_count": 13,
     "metadata": {},
     "output_type": "execute_result"
    }
   ],
   "source": [
    "data.columns"
   ]
  },
  {
   "cell_type": "markdown",
   "metadata": {
    "papermill": {
     "duration": 0.011229,
     "end_time": "2020-09-08T15:02:22.459364",
     "exception": false,
     "start_time": "2020-09-08T15:02:22.448135",
     "status": "completed"
    },
    "tags": []
   },
   "source": [
    "### Data Cleaning "
   ]
  },
  {
   "cell_type": "code",
   "execution_count": 14,
   "metadata": {},
   "outputs": [],
   "source": [
    "# Checking for NA values"
   ]
  },
  {
   "cell_type": "code",
   "execution_count": 15,
   "metadata": {},
   "outputs": [
    {
     "data": {
      "text/plain": [
       "name                              0\n",
       "online_order                      0\n",
       "book_table                        0\n",
       "rate                           3723\n",
       "votes                             0\n",
       "rest_type                       100\n",
       "cuisines                         22\n",
       "approx_cost(for two people)     167\n",
       "reviews_list                      0\n",
       "menu_item                         0\n",
       "listed_in(type)                   0\n",
       "dtype: int64"
      ]
     },
     "execution_count": 15,
     "metadata": {},
     "output_type": "execute_result"
    }
   ],
   "source": [
    "data.isna().sum()"
   ]
  },
  {
   "cell_type": "markdown",
   "metadata": {},
   "source": [
    "#### There are many missing values in the 'ratings' column, which is a very important variable, hence dropping these NA values"
   ]
  },
  {
   "cell_type": "code",
   "execution_count": 16,
   "metadata": {},
   "outputs": [],
   "source": [
    "data.dropna(axis = 0, inplace = True)"
   ]
  },
  {
   "cell_type": "code",
   "execution_count": 17,
   "metadata": {},
   "outputs": [
    {
     "data": {
      "text/plain": [
       "name                           0\n",
       "online_order                   0\n",
       "book_table                     0\n",
       "rate                           0\n",
       "votes                          0\n",
       "rest_type                      0\n",
       "cuisines                       0\n",
       "approx_cost(for two people)    0\n",
       "reviews_list                   0\n",
       "menu_item                      0\n",
       "listed_in(type)                0\n",
       "dtype: int64"
      ]
     },
     "execution_count": 17,
     "metadata": {},
     "output_type": "execute_result"
    }
   ],
   "source": [
    "data.isna().sum()"
   ]
  },
  {
   "cell_type": "code",
   "execution_count": 18,
   "metadata": {},
   "outputs": [
    {
     "data": {
      "text/plain": [
       "(21240, 11)"
      ]
     },
     "execution_count": 18,
     "metadata": {},
     "output_type": "execute_result"
    }
   ],
   "source": [
    "data.shape"
   ]
  },
  {
   "cell_type": "code",
   "execution_count": 19,
   "metadata": {},
   "outputs": [],
   "source": [
    "# Removing the duplicate values if there are any"
   ]
  },
  {
   "cell_type": "code",
   "execution_count": 20,
   "metadata": {},
   "outputs": [
    {
     "data": {
      "text/plain": [
       "1753"
      ]
     },
     "execution_count": 20,
     "metadata": {},
     "output_type": "execute_result"
    }
   ],
   "source": [
    "data.duplicated().sum()"
   ]
  },
  {
   "cell_type": "code",
   "execution_count": 21,
   "metadata": {},
   "outputs": [],
   "source": [
    "data.drop_duplicates(inplace= True)"
   ]
  },
  {
   "cell_type": "code",
   "execution_count": 22,
   "metadata": {},
   "outputs": [
    {
     "data": {
      "text/plain": [
       "(19487, 11)"
      ]
     },
     "execution_count": 22,
     "metadata": {},
     "output_type": "execute_result"
    }
   ],
   "source": [
    "data.shape"
   ]
  },
  {
   "cell_type": "code",
   "execution_count": 23,
   "metadata": {},
   "outputs": [
    {
     "data": {
      "text/plain": [
       "Index(['name', 'online_order', 'book_table', 'rate', 'votes', 'rest_type',\n",
       "       'cuisines', 'approx_cost(for two people)', 'reviews_list', 'menu_item',\n",
       "       'listed_in(type)'],\n",
       "      dtype='object')"
      ]
     },
     "execution_count": 23,
     "metadata": {},
     "output_type": "execute_result"
    }
   ],
   "source": [
    "data.columns"
   ]
  },
  {
   "cell_type": "code",
   "execution_count": 24,
   "metadata": {},
   "outputs": [],
   "source": [
    "# Reading Rate of dataset"
   ]
  },
  {
   "cell_type": "code",
   "execution_count": 25,
   "metadata": {},
   "outputs": [
    {
     "data": {
      "text/plain": [
       "array(['3.8/5', '4.1/5', '3.7 /5', '3.1/5', '4.4 /5', 'NEW', '3.6/5',\n",
       "       '3.5/5', '4.3 /5', '3.8 /5', '3.4 /5', '3.4/5', '4.2/5', '4.0/5',\n",
       "       '3.1 /5', '3.9 /5', '4.7/5', '3.6 /5', '2.9/5', '4.3/5', '4.1 /5',\n",
       "       '3.9/5', '3.5 /5', '3.3/5', '3.7/5', '3.2 /5', '3.2/5', '4.0 /5',\n",
       "       '4.2 /5', '2.8 /5', '2.3 /5', '4.4/5', '4.5 /5', '3.3 /5', '4.5/5',\n",
       "       '3.0/5', '3.0 /5', '2.5/5', '2.5 /5', '2.7 /5', '2.3/5', '2.8/5',\n",
       "       '4.6 /5', '2.9 /5', '2.7/5', '2.6/5', '-', '2.6 /5', '4.6/5',\n",
       "       '4.7 /5', '4.9/5', '2.4 /5', '2.4/5', '4.9 /5', '1.8/5', '2.2/5',\n",
       "       '4.8 /5', '4.8/5', '2.1/5', '2.2 /5', '2.0 /5', '2.1 /5', '2.0/5'],\n",
       "      dtype=object)"
      ]
     },
     "execution_count": 25,
     "metadata": {},
     "output_type": "execute_result"
    }
   ],
   "source": [
    "data['rate'].unique()"
   ]
  },
  {
   "cell_type": "code",
   "execution_count": 26,
   "metadata": {},
   "outputs": [],
   "source": [
    "# Removing some redudandant ratings"
   ]
  },
  {
   "cell_type": "code",
   "execution_count": 27,
   "metadata": {},
   "outputs": [],
   "source": [
    "data = data.loc[data.rate !='NEW']"
   ]
  },
  {
   "cell_type": "code",
   "execution_count": 28,
   "metadata": {},
   "outputs": [],
   "source": [
    "data = data.loc[data.rate !='-'].reset_index(drop=True)"
   ]
  },
  {
   "cell_type": "code",
   "execution_count": 29,
   "metadata": {},
   "outputs": [],
   "source": [
    "# Removing slash"
   ]
  },
  {
   "cell_type": "code",
   "execution_count": 30,
   "metadata": {},
   "outputs": [],
   "source": [
    "remove_slash = lambda x: x.replace('/5', '') if type(x) == np.str else x"
   ]
  },
  {
   "cell_type": "code",
   "execution_count": 31,
   "metadata": {},
   "outputs": [],
   "source": [
    "data.rate = data.rate.apply(remove_slash).str.strip().astype('float')"
   ]
  },
  {
   "cell_type": "code",
   "execution_count": 32,
   "metadata": {},
   "outputs": [
    {
     "data": {
      "text/plain": [
       "0    3.8\n",
       "1    4.1\n",
       "2    3.7\n",
       "3    3.1\n",
       "4    4.4\n",
       "Name: rate, dtype: float64"
      ]
     },
     "execution_count": 32,
     "metadata": {},
     "output_type": "execute_result"
    }
   ],
   "source": [
    "data['rate'].head()"
   ]
  },
  {
   "cell_type": "code",
   "execution_count": 33,
   "metadata": {},
   "outputs": [],
   "source": [
    "# Computing Mean Rating"
   ]
  },
  {
   "cell_type": "code",
   "execution_count": 34,
   "metadata": {},
   "outputs": [],
   "source": [
    "restaurants = list(data['name'].unique())"
   ]
  },
  {
   "cell_type": "code",
   "execution_count": 35,
   "metadata": {},
   "outputs": [],
   "source": [
    "data['Mean Rating'] = 0"
   ]
  },
  {
   "cell_type": "code",
   "execution_count": 36,
   "metadata": {},
   "outputs": [],
   "source": [
    "for i in range(len(restaurants)):\n",
    "    data['Mean Rating'][data['name'] == restaurants[i]] = data['rate'][data['name'] == restaurants[i]].mean()"
   ]
  },
  {
   "cell_type": "code",
   "execution_count": 37,
   "metadata": {},
   "outputs": [
    {
     "data": {
      "text/html": [
       "<div>\n",
       "<style scoped>\n",
       "    .dataframe tbody tr th:only-of-type {\n",
       "        vertical-align: middle;\n",
       "    }\n",
       "\n",
       "    .dataframe tbody tr th {\n",
       "        vertical-align: top;\n",
       "    }\n",
       "\n",
       "    .dataframe thead th {\n",
       "        text-align: right;\n",
       "    }\n",
       "</style>\n",
       "<table border=\"1\" class=\"dataframe\">\n",
       "  <thead>\n",
       "    <tr style=\"text-align: right;\">\n",
       "      <th></th>\n",
       "      <th>name</th>\n",
       "      <th>online_order</th>\n",
       "      <th>book_table</th>\n",
       "      <th>rate</th>\n",
       "      <th>votes</th>\n",
       "      <th>rest_type</th>\n",
       "      <th>cuisines</th>\n",
       "      <th>approx_cost(for two people)</th>\n",
       "      <th>reviews_list</th>\n",
       "      <th>menu_item</th>\n",
       "      <th>listed_in(type)</th>\n",
       "      <th>Mean Rating</th>\n",
       "    </tr>\n",
       "  </thead>\n",
       "  <tbody>\n",
       "    <tr>\n",
       "      <th>0</th>\n",
       "      <td>Corner Huts</td>\n",
       "      <td>Yes</td>\n",
       "      <td>No</td>\n",
       "      <td>3.8</td>\n",
       "      <td>30</td>\n",
       "      <td>Quick Bites</td>\n",
       "      <td>North Indian, Chinese, Biryani, South Indian</td>\n",
       "      <td>300</td>\n",
       "      <td>[('Rated 4.0', 'RATED\\n  I was at this place f...</td>\n",
       "      <td>['Tandoori Chicken', 'Paneer Tikka Masala', 'B...</td>\n",
       "      <td>Dine-out</td>\n",
       "      <td>3.80</td>\n",
       "    </tr>\n",
       "    <tr>\n",
       "      <th>1</th>\n",
       "      <td>Oregano Soul Food</td>\n",
       "      <td>Yes</td>\n",
       "      <td>No</td>\n",
       "      <td>4.1</td>\n",
       "      <td>142</td>\n",
       "      <td>Cafe</td>\n",
       "      <td>Cafe</td>\n",
       "      <td>700</td>\n",
       "      <td>[('Rated 5.0', 'RATED\\n  Loved the place. Awes...</td>\n",
       "      <td>[]</td>\n",
       "      <td>Dine-out</td>\n",
       "      <td>4.10</td>\n",
       "    </tr>\n",
       "    <tr>\n",
       "      <th>2</th>\n",
       "      <td>Pepperwood</td>\n",
       "      <td>Yes</td>\n",
       "      <td>No</td>\n",
       "      <td>3.7</td>\n",
       "      <td>136</td>\n",
       "      <td>Quick Bites</td>\n",
       "      <td>Biryani, Rolls</td>\n",
       "      <td>300</td>\n",
       "      <td>[('Rated 3.0', 'RATED\\n  Got delivery from thi...</td>\n",
       "      <td>[]</td>\n",
       "      <td>Dine-out</td>\n",
       "      <td>3.75</td>\n",
       "    </tr>\n",
       "    <tr>\n",
       "      <th>3</th>\n",
       "      <td>Dawat Midnight Express</td>\n",
       "      <td>Yes</td>\n",
       "      <td>No</td>\n",
       "      <td>3.1</td>\n",
       "      <td>29</td>\n",
       "      <td>Takeaway, Delivery</td>\n",
       "      <td>North Indian, Chinese</td>\n",
       "      <td>450</td>\n",
       "      <td>[('Rated 4.0', 'RATED\\n  Loved the chicken fri...</td>\n",
       "      <td>['Paneer Tikka', 'Paneer Chilli', 'Paneer Manc...</td>\n",
       "      <td>Delivery</td>\n",
       "      <td>3.10</td>\n",
       "    </tr>\n",
       "    <tr>\n",
       "      <th>4</th>\n",
       "      <td>RockSalt</td>\n",
       "      <td>Yes</td>\n",
       "      <td>Yes</td>\n",
       "      <td>4.4</td>\n",
       "      <td>498</td>\n",
       "      <td>Bar, Casual Dining</td>\n",
       "      <td>Modern Indian</td>\n",
       "      <td>1,900</td>\n",
       "      <td>[('Rated 3.0', 'RATED\\n  Visited this place wi...</td>\n",
       "      <td>[]</td>\n",
       "      <td>Pubs and bars</td>\n",
       "      <td>4.40</td>\n",
       "    </tr>\n",
       "  </tbody>\n",
       "</table>\n",
       "</div>"
      ],
      "text/plain": [
       "                     name online_order book_table  rate  votes  \\\n",
       "0             Corner Huts          Yes         No   3.8     30   \n",
       "1       Oregano Soul Food          Yes         No   4.1    142   \n",
       "2              Pepperwood          Yes         No   3.7    136   \n",
       "3  Dawat Midnight Express          Yes         No   3.1     29   \n",
       "4                RockSalt          Yes        Yes   4.4    498   \n",
       "\n",
       "            rest_type                                      cuisines  \\\n",
       "0         Quick Bites  North Indian, Chinese, Biryani, South Indian   \n",
       "1                Cafe                                          Cafe   \n",
       "2         Quick Bites                                Biryani, Rolls   \n",
       "3  Takeaway, Delivery                         North Indian, Chinese   \n",
       "4  Bar, Casual Dining                                 Modern Indian   \n",
       "\n",
       "  approx_cost(for two people)  \\\n",
       "0                         300   \n",
       "1                         700   \n",
       "2                         300   \n",
       "3                         450   \n",
       "4                       1,900   \n",
       "\n",
       "                                        reviews_list  \\\n",
       "0  [('Rated 4.0', 'RATED\\n  I was at this place f...   \n",
       "1  [('Rated 5.0', 'RATED\\n  Loved the place. Awes...   \n",
       "2  [('Rated 3.0', 'RATED\\n  Got delivery from thi...   \n",
       "3  [('Rated 4.0', 'RATED\\n  Loved the chicken fri...   \n",
       "4  [('Rated 3.0', 'RATED\\n  Visited this place wi...   \n",
       "\n",
       "                                           menu_item listed_in(type)  \\\n",
       "0  ['Tandoori Chicken', 'Paneer Tikka Masala', 'B...        Dine-out   \n",
       "1                                                 []        Dine-out   \n",
       "2                                                 []        Dine-out   \n",
       "3  ['Paneer Tikka', 'Paneer Chilli', 'Paneer Manc...        Delivery   \n",
       "4                                                 []   Pubs and bars   \n",
       "\n",
       "   Mean Rating  \n",
       "0         3.80  \n",
       "1         4.10  \n",
       "2         3.75  \n",
       "3         3.10  \n",
       "4         4.40  "
      ]
     },
     "execution_count": 37,
     "metadata": {},
     "output_type": "execute_result"
    }
   ],
   "source": [
    "data.head()"
   ]
  },
  {
   "cell_type": "code",
   "execution_count": 38,
   "metadata": {
    "scrolled": true
   },
   "outputs": [
    {
     "data": {
      "text/plain": [
       "count    18563.000000\n",
       "mean         3.718117\n",
       "std          0.419172\n",
       "min          1.800000\n",
       "25%          3.444828\n",
       "50%          3.700000\n",
       "75%          4.000000\n",
       "max          4.900000\n",
       "Name: Mean Rating, dtype: float64"
      ]
     },
     "execution_count": 38,
     "metadata": {},
     "output_type": "execute_result"
    }
   ],
   "source": [
    "data['Mean Rating'].describe()"
   ]
  },
  {
   "cell_type": "code",
   "execution_count": 39,
   "metadata": {},
   "outputs": [],
   "source": [
    "# Normalizing the rating values"
   ]
  },
  {
   "cell_type": "code",
   "execution_count": 40,
   "metadata": {},
   "outputs": [],
   "source": [
    "from sklearn.preprocessing import MinMaxScaler"
   ]
  },
  {
   "cell_type": "code",
   "execution_count": 41,
   "metadata": {},
   "outputs": [],
   "source": [
    "scaler = MinMaxScaler(feature_range = (1,5))"
   ]
  },
  {
   "cell_type": "code",
   "execution_count": 42,
   "metadata": {},
   "outputs": [],
   "source": [
    "data[['Mean Rating']] = scaler.fit_transform(data[['Mean Rating']]).round(2)"
   ]
  },
  {
   "cell_type": "code",
   "execution_count": 43,
   "metadata": {},
   "outputs": [
    {
     "data": {
      "text/html": [
       "<div>\n",
       "<style scoped>\n",
       "    .dataframe tbody tr th:only-of-type {\n",
       "        vertical-align: middle;\n",
       "    }\n",
       "\n",
       "    .dataframe tbody tr th {\n",
       "        vertical-align: top;\n",
       "    }\n",
       "\n",
       "    .dataframe thead th {\n",
       "        text-align: right;\n",
       "    }\n",
       "</style>\n",
       "<table border=\"1\" class=\"dataframe\">\n",
       "  <thead>\n",
       "    <tr style=\"text-align: right;\">\n",
       "      <th></th>\n",
       "      <th>name</th>\n",
       "      <th>online_order</th>\n",
       "      <th>book_table</th>\n",
       "      <th>rate</th>\n",
       "      <th>votes</th>\n",
       "      <th>rest_type</th>\n",
       "      <th>cuisines</th>\n",
       "      <th>approx_cost(for two people)</th>\n",
       "      <th>reviews_list</th>\n",
       "      <th>menu_item</th>\n",
       "      <th>listed_in(type)</th>\n",
       "      <th>Mean Rating</th>\n",
       "    </tr>\n",
       "  </thead>\n",
       "  <tbody>\n",
       "    <tr>\n",
       "      <th>1142</th>\n",
       "      <td>Donne Biriyani Mane</td>\n",
       "      <td>Yes</td>\n",
       "      <td>No</td>\n",
       "      <td>3.4</td>\n",
       "      <td>63</td>\n",
       "      <td>Quick Bites</td>\n",
       "      <td>Biryani, Kebab</td>\n",
       "      <td>400</td>\n",
       "      <td>[('Rated 3.0', 'RATED\\n  Visited here after sh...</td>\n",
       "      <td>['Mutton Combo', 'Biryani Rice with Kabab Comb...</td>\n",
       "      <td>Dine-out</td>\n",
       "      <td>3.17</td>\n",
       "    </tr>\n",
       "    <tr>\n",
       "      <th>5762</th>\n",
       "      <td>Tea Brew</td>\n",
       "      <td>Yes</td>\n",
       "      <td>No</td>\n",
       "      <td>4.1</td>\n",
       "      <td>1156</td>\n",
       "      <td>Cafe, Casual Dining</td>\n",
       "      <td>Cafe, Continental, Momos, Italian, North Indian</td>\n",
       "      <td>500</td>\n",
       "      <td>[('Rated 4.0', 'RATED\\n  We went here today ev...</td>\n",
       "      <td>[]</td>\n",
       "      <td>Delivery</td>\n",
       "      <td>3.97</td>\n",
       "    </tr>\n",
       "    <tr>\n",
       "      <th>2794</th>\n",
       "      <td>The Egg Factory</td>\n",
       "      <td>Yes</td>\n",
       "      <td>No</td>\n",
       "      <td>4.0</td>\n",
       "      <td>1310</td>\n",
       "      <td>Casual Dining</td>\n",
       "      <td>Continental, American</td>\n",
       "      <td>750</td>\n",
       "      <td>[('Rated 4.0', 'RATED\\n  If you love eggs u wi...</td>\n",
       "      <td>['Street Style Egg Curry with Paratha', 'Spicy...</td>\n",
       "      <td>Delivery</td>\n",
       "      <td>3.90</td>\n",
       "    </tr>\n",
       "  </tbody>\n",
       "</table>\n",
       "</div>"
      ],
      "text/plain": [
       "                     name online_order book_table  rate  votes  \\\n",
       "1142  Donne Biriyani Mane          Yes         No   3.4     63   \n",
       "5762             Tea Brew          Yes         No   4.1   1156   \n",
       "2794      The Egg Factory          Yes         No   4.0   1310   \n",
       "\n",
       "                rest_type                                         cuisines  \\\n",
       "1142          Quick Bites                                   Biryani, Kebab   \n",
       "5762  Cafe, Casual Dining  Cafe, Continental, Momos, Italian, North Indian   \n",
       "2794        Casual Dining                            Continental, American   \n",
       "\n",
       "     approx_cost(for two people)  \\\n",
       "1142                         400   \n",
       "5762                         500   \n",
       "2794                         750   \n",
       "\n",
       "                                           reviews_list  \\\n",
       "1142  [('Rated 3.0', 'RATED\\n  Visited here after sh...   \n",
       "5762  [('Rated 4.0', 'RATED\\n  We went here today ev...   \n",
       "2794  [('Rated 4.0', 'RATED\\n  If you love eggs u wi...   \n",
       "\n",
       "                                              menu_item listed_in(type)  \\\n",
       "1142  ['Mutton Combo', 'Biryani Rice with Kabab Comb...        Dine-out   \n",
       "5762                                                 []        Delivery   \n",
       "2794  ['Street Style Egg Curry with Paratha', 'Spicy...        Delivery   \n",
       "\n",
       "      Mean Rating  \n",
       "1142         3.17  \n",
       "5762         3.97  \n",
       "2794         3.90  "
      ]
     },
     "execution_count": 43,
     "metadata": {},
     "output_type": "execute_result"
    }
   ],
   "source": [
    "data.sample(3)"
   ]
  },
  {
   "cell_type": "code",
   "execution_count": 44,
   "metadata": {
    "execution": {
     "iopub.execute_input": "2020-09-08T15:04:01.352284Z",
     "iopub.status.busy": "2020-09-08T15:04:01.350649Z",
     "iopub.status.idle": "2020-09-08T15:04:01.386738Z",
     "shell.execute_reply": "2020-09-08T15:04:01.387931Z"
    },
    "papermill": {
     "duration": 0.056371,
     "end_time": "2020-09-08T15:04:01.388142",
     "exception": false,
     "start_time": "2020-09-08T15:04:01.331771",
     "status": "completed"
    },
    "tags": []
   },
   "outputs": [
    {
     "data": {
      "text/plain": [
       "count    18563.000000\n",
       "mean         3.475005\n",
       "std          0.540867\n",
       "min          1.000000\n",
       "25%          3.120000\n",
       "50%          3.450000\n",
       "75%          3.840000\n",
       "max          5.000000\n",
       "Name: Mean Rating, dtype: float64"
      ]
     },
     "execution_count": 44,
     "metadata": {},
     "output_type": "execute_result"
    }
   ],
   "source": [
    "data['Mean Rating'].describe()"
   ]
  },
  {
   "cell_type": "code",
   "execution_count": 45,
   "metadata": {},
   "outputs": [],
   "source": [
    "# Keeping only the useful columns and remving the unnecessary columns"
   ]
  },
  {
   "cell_type": "code",
   "execution_count": 46,
   "metadata": {},
   "outputs": [
    {
     "data": {
      "text/plain": [
       "Index(['name', 'online_order', 'book_table', 'rate', 'votes', 'rest_type',\n",
       "       'cuisines', 'approx_cost(for two people)', 'reviews_list', 'menu_item',\n",
       "       'listed_in(type)', 'Mean Rating'],\n",
       "      dtype='object')"
      ]
     },
     "execution_count": 46,
     "metadata": {},
     "output_type": "execute_result"
    }
   ],
   "source": [
    "data.columns"
   ]
  },
  {
   "cell_type": "code",
   "execution_count": 47,
   "metadata": {},
   "outputs": [],
   "source": [
    "data_new = data[['name','rate','reviews_list','Mean Rating']]"
   ]
  },
  {
   "cell_type": "code",
   "execution_count": 48,
   "metadata": {},
   "outputs": [
    {
     "data": {
      "text/html": [
       "<div>\n",
       "<style scoped>\n",
       "    .dataframe tbody tr th:only-of-type {\n",
       "        vertical-align: middle;\n",
       "    }\n",
       "\n",
       "    .dataframe tbody tr th {\n",
       "        vertical-align: top;\n",
       "    }\n",
       "\n",
       "    .dataframe thead th {\n",
       "        text-align: right;\n",
       "    }\n",
       "</style>\n",
       "<table border=\"1\" class=\"dataframe\">\n",
       "  <thead>\n",
       "    <tr style=\"text-align: right;\">\n",
       "      <th></th>\n",
       "      <th>name</th>\n",
       "      <th>rate</th>\n",
       "      <th>reviews_list</th>\n",
       "      <th>Mean Rating</th>\n",
       "    </tr>\n",
       "  </thead>\n",
       "  <tbody>\n",
       "    <tr>\n",
       "      <th>0</th>\n",
       "      <td>Corner Huts</td>\n",
       "      <td>3.8</td>\n",
       "      <td>[('Rated 4.0', 'RATED\\n  I was at this place f...</td>\n",
       "      <td>3.58</td>\n",
       "    </tr>\n",
       "    <tr>\n",
       "      <th>1</th>\n",
       "      <td>Oregano Soul Food</td>\n",
       "      <td>4.1</td>\n",
       "      <td>[('Rated 5.0', 'RATED\\n  Loved the place. Awes...</td>\n",
       "      <td>3.97</td>\n",
       "    </tr>\n",
       "    <tr>\n",
       "      <th>2</th>\n",
       "      <td>Pepperwood</td>\n",
       "      <td>3.7</td>\n",
       "      <td>[('Rated 3.0', 'RATED\\n  Got delivery from thi...</td>\n",
       "      <td>3.52</td>\n",
       "    </tr>\n",
       "    <tr>\n",
       "      <th>3</th>\n",
       "      <td>Dawat Midnight Express</td>\n",
       "      <td>3.1</td>\n",
       "      <td>[('Rated 4.0', 'RATED\\n  Loved the chicken fri...</td>\n",
       "      <td>2.68</td>\n",
       "    </tr>\n",
       "    <tr>\n",
       "      <th>4</th>\n",
       "      <td>RockSalt</td>\n",
       "      <td>4.4</td>\n",
       "      <td>[('Rated 3.0', 'RATED\\n  Visited this place wi...</td>\n",
       "      <td>4.35</td>\n",
       "    </tr>\n",
       "  </tbody>\n",
       "</table>\n",
       "</div>"
      ],
      "text/plain": [
       "                     name  rate  \\\n",
       "0             Corner Huts   3.8   \n",
       "1       Oregano Soul Food   4.1   \n",
       "2              Pepperwood   3.7   \n",
       "3  Dawat Midnight Express   3.1   \n",
       "4                RockSalt   4.4   \n",
       "\n",
       "                                        reviews_list  Mean Rating  \n",
       "0  [('Rated 4.0', 'RATED\\n  I was at this place f...         3.58  \n",
       "1  [('Rated 5.0', 'RATED\\n  Loved the place. Awes...         3.97  \n",
       "2  [('Rated 3.0', 'RATED\\n  Got delivery from thi...         3.52  \n",
       "3  [('Rated 4.0', 'RATED\\n  Loved the chicken fri...         2.68  \n",
       "4  [('Rated 3.0', 'RATED\\n  Visited this place wi...         4.35  "
      ]
     },
     "execution_count": 48,
     "metadata": {},
     "output_type": "execute_result"
    }
   ],
   "source": [
    "data_new.head()"
   ]
  },
  {
   "cell_type": "code",
   "execution_count": 49,
   "metadata": {},
   "outputs": [],
   "source": [
    "# Renaming the columns"
   ]
  },
  {
   "cell_type": "code",
   "execution_count": 50,
   "metadata": {},
   "outputs": [],
   "source": [
    "data_new.rename(columns={'rate':'ratings', 'reviews_list' : 'reviews'}, inplace = True)"
   ]
  },
  {
   "cell_type": "code",
   "execution_count": 51,
   "metadata": {},
   "outputs": [
    {
     "data": {
      "text/html": [
       "<div>\n",
       "<style scoped>\n",
       "    .dataframe tbody tr th:only-of-type {\n",
       "        vertical-align: middle;\n",
       "    }\n",
       "\n",
       "    .dataframe tbody tr th {\n",
       "        vertical-align: top;\n",
       "    }\n",
       "\n",
       "    .dataframe thead th {\n",
       "        text-align: right;\n",
       "    }\n",
       "</style>\n",
       "<table border=\"1\" class=\"dataframe\">\n",
       "  <thead>\n",
       "    <tr style=\"text-align: right;\">\n",
       "      <th></th>\n",
       "      <th>name</th>\n",
       "      <th>ratings</th>\n",
       "      <th>reviews</th>\n",
       "      <th>Mean Rating</th>\n",
       "    </tr>\n",
       "  </thead>\n",
       "  <tbody>\n",
       "    <tr>\n",
       "      <th>0</th>\n",
       "      <td>Corner Huts</td>\n",
       "      <td>3.8</td>\n",
       "      <td>[('Rated 4.0', 'RATED\\n  I was at this place f...</td>\n",
       "      <td>3.58</td>\n",
       "    </tr>\n",
       "    <tr>\n",
       "      <th>1</th>\n",
       "      <td>Oregano Soul Food</td>\n",
       "      <td>4.1</td>\n",
       "      <td>[('Rated 5.0', 'RATED\\n  Loved the place. Awes...</td>\n",
       "      <td>3.97</td>\n",
       "    </tr>\n",
       "    <tr>\n",
       "      <th>2</th>\n",
       "      <td>Pepperwood</td>\n",
       "      <td>3.7</td>\n",
       "      <td>[('Rated 3.0', 'RATED\\n  Got delivery from thi...</td>\n",
       "      <td>3.52</td>\n",
       "    </tr>\n",
       "    <tr>\n",
       "      <th>3</th>\n",
       "      <td>Dawat Midnight Express</td>\n",
       "      <td>3.1</td>\n",
       "      <td>[('Rated 4.0', 'RATED\\n  Loved the chicken fri...</td>\n",
       "      <td>2.68</td>\n",
       "    </tr>\n",
       "    <tr>\n",
       "      <th>4</th>\n",
       "      <td>RockSalt</td>\n",
       "      <td>4.4</td>\n",
       "      <td>[('Rated 3.0', 'RATED\\n  Visited this place wi...</td>\n",
       "      <td>4.35</td>\n",
       "    </tr>\n",
       "  </tbody>\n",
       "</table>\n",
       "</div>"
      ],
      "text/plain": [
       "                     name  ratings  \\\n",
       "0             Corner Huts      3.8   \n",
       "1       Oregano Soul Food      4.1   \n",
       "2              Pepperwood      3.7   \n",
       "3  Dawat Midnight Express      3.1   \n",
       "4                RockSalt      4.4   \n",
       "\n",
       "                                             reviews  Mean Rating  \n",
       "0  [('Rated 4.0', 'RATED\\n  I was at this place f...         3.58  \n",
       "1  [('Rated 5.0', 'RATED\\n  Loved the place. Awes...         3.97  \n",
       "2  [('Rated 3.0', 'RATED\\n  Got delivery from thi...         3.52  \n",
       "3  [('Rated 4.0', 'RATED\\n  Loved the chicken fri...         2.68  \n",
       "4  [('Rated 3.0', 'RATED\\n  Visited this place wi...         4.35  "
      ]
     },
     "execution_count": 51,
     "metadata": {},
     "output_type": "execute_result"
    }
   ],
   "source": [
    "data_new.head()"
   ]
  },
  {
   "cell_type": "markdown",
   "metadata": {
    "execution": {
     "iopub.execute_input": "2020-09-08T15:04:01.435889Z",
     "iopub.status.busy": "2020-09-08T15:04:01.435020Z",
     "iopub.status.idle": "2020-09-08T15:04:01.438162Z",
     "shell.execute_reply": "2020-09-08T15:04:01.437677Z"
    },
    "papermill": {
     "duration": 0.025483,
     "end_time": "2020-09-08T15:04:01.438298",
     "exception": false,
     "start_time": "2020-09-08T15:04:01.412815",
     "status": "completed"
    },
    "tags": []
   },
   "source": [
    "### Text Preprocessing"
   ]
  },
  {
   "cell_type": "markdown",
   "metadata": {
    "papermill": {
     "duration": 0.016405,
     "end_time": "2020-09-08T15:04:01.470109",
     "exception": false,
     "start_time": "2020-09-08T15:04:01.453704",
     "status": "completed"
    },
    "tags": []
   },
   "source": [
    "Some of the common text preprocessing / cleaning steps are:\n",
    "\n",
    " - Lower casing\n",
    " - Removal of Punctuations\n",
    " - Removal of Stopwords\n",
    " - Removal of URLs\n",
    " - Spelling correction"
   ]
  },
  {
   "cell_type": "code",
   "execution_count": 52,
   "metadata": {},
   "outputs": [],
   "source": [
    "# Transforming into lower case"
   ]
  },
  {
   "cell_type": "code",
   "execution_count": 53,
   "metadata": {},
   "outputs": [],
   "source": [
    "data_new[\"reviews\"] = data_new[\"reviews\"].str.lower()"
   ]
  },
  {
   "cell_type": "code",
   "execution_count": 54,
   "metadata": {},
   "outputs": [],
   "source": [
    "# Removal of Puctuations"
   ]
  },
  {
   "cell_type": "code",
   "execution_count": 55,
   "metadata": {},
   "outputs": [],
   "source": [
    "import string"
   ]
  },
  {
   "cell_type": "code",
   "execution_count": 56,
   "metadata": {},
   "outputs": [],
   "source": [
    "PUNCT_TO_REMOVE = string.punctuation"
   ]
  },
  {
   "cell_type": "code",
   "execution_count": 57,
   "metadata": {},
   "outputs": [],
   "source": [
    "def remove_punctuation(text):\n",
    "    \"\"\"custom function to remove the punctuation\"\"\"\n",
    "    return text.translate(str.maketrans('', '', PUNCT_TO_REMOVE))"
   ]
  },
  {
   "cell_type": "code",
   "execution_count": 58,
   "metadata": {},
   "outputs": [],
   "source": [
    "data_new[\"reviews\"] = data_new[\"reviews\"].apply(lambda text: remove_punctuation(text))"
   ]
  },
  {
   "cell_type": "code",
   "execution_count": 59,
   "metadata": {},
   "outputs": [],
   "source": [
    "# Removal of Stopwords"
   ]
  },
  {
   "cell_type": "code",
   "execution_count": 60,
   "metadata": {},
   "outputs": [],
   "source": [
    "from nltk.corpus import stopwords"
   ]
  },
  {
   "cell_type": "code",
   "execution_count": 61,
   "metadata": {},
   "outputs": [],
   "source": [
    "STOPWORDS = set(stopwords.words('english'))"
   ]
  },
  {
   "cell_type": "code",
   "execution_count": 62,
   "metadata": {},
   "outputs": [],
   "source": [
    "def remove_stopwords(text):\n",
    "    \"\"\"custom function to remove the stopwords\"\"\"\n",
    "    return \" \".join([word for word in str(text).split() if word not in STOPWORDS])"
   ]
  },
  {
   "cell_type": "code",
   "execution_count": 63,
   "metadata": {},
   "outputs": [],
   "source": [
    "data_new[\"reviews\"] = data_new[\"reviews\"].apply(lambda text: remove_stopwords(text))"
   ]
  },
  {
   "cell_type": "code",
   "execution_count": 64,
   "metadata": {},
   "outputs": [],
   "source": [
    "# Removal of URLS"
   ]
  },
  {
   "cell_type": "code",
   "execution_count": 65,
   "metadata": {},
   "outputs": [],
   "source": [
    "def remove_urls(text):\n",
    "    url_pattern = re.compile(r'https?://\\S+|www\\.\\S+')\n",
    "    return url_pattern.sub(r'', text)"
   ]
  },
  {
   "cell_type": "code",
   "execution_count": 66,
   "metadata": {},
   "outputs": [],
   "source": [
    "data_new[\"reviews\"] = data_new[\"reviews\"].apply(lambda text: remove_urls(text))"
   ]
  },
  {
   "cell_type": "code",
   "execution_count": 67,
   "metadata": {},
   "outputs": [],
   "source": [
    "# Cleaned Reviews"
   ]
  },
  {
   "cell_type": "code",
   "execution_count": 68,
   "metadata": {
    "execution": {
     "iopub.execute_input": "2020-09-08T15:05:09.421283Z",
     "iopub.status.busy": "2020-09-08T15:05:09.412820Z",
     "iopub.status.idle": "2020-09-08T15:05:09.424369Z",
     "shell.execute_reply": "2020-09-08T15:05:09.424847Z"
    },
    "papermill": {
     "duration": 0.033686,
     "end_time": "2020-09-08T15:05:09.424964",
     "exception": false,
     "start_time": "2020-09-08T15:05:09.391278",
     "status": "completed"
    },
    "tags": []
   },
   "outputs": [
    {
     "data": {
      "text/plain": [
       "0    rated 40 ratedn place dinner husband sure expl...\n",
       "1    rated 50 ratedn loved place awesome food great...\n",
       "2    rated 30 ratedn got delivery place food good s...\n",
       "3    rated 40 ratedn loved chicken fried rice nothi...\n",
       "4    rated 30 ratedn visited place friends tried 3 ...\n",
       "5    rated 50 ratedn order pancakes nd loved nice p...\n",
       "6    rated 50 ratedn food delicious delivery time m...\n",
       "7    rated 40 ratedn place located jaynagar talking...\n",
       "8    rated 30 ratedn beautiful place contemporary p...\n",
       "9    rated 50 ratedn staying citrine hotel first da...\n",
       "Name: reviews, dtype: object"
      ]
     },
     "execution_count": 68,
     "metadata": {},
     "output_type": "execute_result"
    }
   ],
   "source": [
    "data_new['reviews'].head(10)"
   ]
  },
  {
   "cell_type": "code",
   "execution_count": 69,
   "metadata": {},
   "outputs": [],
   "source": [
    "# Restaurant Names"
   ]
  },
  {
   "cell_type": "code",
   "execution_count": 70,
   "metadata": {},
   "outputs": [],
   "source": [
    "restaurant_names = list(data_new['name'].unique())"
   ]
  },
  {
   "cell_type": "code",
   "execution_count": 71,
   "metadata": {},
   "outputs": [
    {
     "data": {
      "text/plain": [
       "['Corner Huts',\n",
       " 'Oregano Soul Food',\n",
       " 'Pepperwood',\n",
       " 'Dawat Midnight Express',\n",
       " 'RockSalt',\n",
       " 'Bite Me Cupcakes',\n",
       " 'Guns N Roses',\n",
       " 'Fishland Deluxe',\n",
       " 'Aubree',\n",
       " 'Cinnamon',\n",
       " 'Wudfyr',\n",
       " 'Arabian Bites',\n",
       " 'Ghee Positive',\n",
       " 'Thindi Mane',\n",
       " 'Hotel Kadamba Veg',\n",
       " 'Ascharya Hotel',\n",
       " 'Bhairava Deluxe Hindu Military Hotel',\n",
       " 'Salut',\n",
       " 'Thai House',\n",
       " 'New Surya Sweets & Snacks',\n",
       " 'Ober Cafe',\n",
       " 'Alfresco by Bene -Sheraton Grand Bangalore Hotel at...',\n",
       " 'Skyye',\n",
       " 'Shalimar',\n",
       " 'C Kosila Kitchen',\n",
       " 'Coffee@Arens',\n",
       " 'Cheesiano Pizza',\n",
       " 'The Bridge Walk Cafe',\n",
       " 'Sri Raghavendra Davanagere Benne Dose Hotel',\n",
       " 'Xpress Chai',\n",
       " \"Ruh's Cafe\",\n",
       " 'Mountain Spice',\n",
       " 'Biergarten',\n",
       " 'Vyshali Food Corner',\n",
       " 'Chaai Resto',\n",
       " 'The Chariot',\n",
       " 'Al Noor',\n",
       " 'Sree Lakshmi Venkateshwara Andhra Mess',\n",
       " 'Hoppipola',\n",
       " \"Saara's Grill n Spice - SS Lumina Hotel\",\n",
       " 'Kaaram',\n",
       " 'Krispy Kreme',\n",
       " 'Nandhanam Restaurant',\n",
       " 'Sreeraj Lassi Bar',\n",
       " 'Juicemaker',\n",
       " 'Fresh Pressery Cafe',\n",
       " 'Art Cafe',\n",
       " 'Odisha Kitchen',\n",
       " \"Nanda's\",\n",
       " 'Ambur Biryani Point',\n",
       " 'Biryani Spot',\n",
       " 'Java',\n",
       " '52 Wall Street',\n",
       " 'Kobe Sizzlers',\n",
       " 'ILA Kitchen',\n",
       " 'Lakeview Milkbar',\n",
       " 'Wimpie',\n",
       " 'CafÃ\\x83Â\\x83Ã\\x82Â\\x83Ã\\x83Â\\x82Ã\\x82Â\\x83Ã\\x83Â\\x83Ã\\x82Â\\x82Ã\\x83Â\\x82Ã\\x82Â\\x83Ã\\x83Â\\x83Ã\\x82Â\\x83Ã\\x83Â\\x82Ã\\x82Â\\x82Ã\\x83Â\\x83Ã\\x82Â\\x82Ã\\x83Â\\x82Ã\\x82Â\\x83Ã\\x83Â\\x83Ã\\x82Â\\x83Ã\\x83Â\\x82Ã\\x82Â\\x83Ã\\x83Â\\x83Ã\\x82Â\\x82Ã\\x83Â\\x82Ã\\x82Â\\x82Ã\\x83Â\\x83Ã\\x82Â\\x83Ã\\x83Â\\x82Ã\\x82Â\\x82Ã\\x83Â\\x83Ã\\x82Â\\x82Ã\\x83Â\\x82Ã\\x82Â© Felix',\n",
       " 'The Coffee Bean & Tea Leaf',\n",
       " 'Sri Bhagya Grand',\n",
       " \"Dadi's Dum Biryani\",\n",
       " 'Hanoi - Vietnamese Cuisine',\n",
       " 'Chikpet Donne Biriyani Corner',\n",
       " 'Oottupura Family Restaurant',\n",
       " 'Al Sadique',\n",
       " 'An Egg Story',\n",
       " 'Lounge 189',\n",
       " 'Chung Shan Chinese Restaurant',\n",
       " 'Chill',\n",
       " 'Cold Stone Creamery',\n",
       " 'The Cake Ville',\n",
       " 'Fudge',\n",
       " 'Juice Junction',\n",
       " 'Nagarjuna',\n",
       " 'Mealer.in',\n",
       " 'Queen Pearls',\n",
       " 'Namaste Kitchen',\n",
       " 'Natural Ice Cream',\n",
       " 'Mojo Pizza - 2X Toppings',\n",
       " 'Twiststick House',\n",
       " 'Ibaco',\n",
       " 'Turkish Shawarma',\n",
       " 'The Tiny Taproom',\n",
       " 'Brews N Bites',\n",
       " 'Sai Santhi Cafe',\n",
       " 'Mumbai Xpress',\n",
       " 'A2B - Adyar Ananda Bhavan',\n",
       " 'Tewari Bros Mithai Shoppie',\n",
       " 'Golden Rice',\n",
       " 'Koshe Kosha',\n",
       " 'Ammus Hot N Cool',\n",
       " 'Fillers',\n",
       " 'Bhagini',\n",
       " 'Sukhi Bhava',\n",
       " \"Pabrai's Fresh & Naturelle Icecreams\",\n",
       " 'Matsuri - The Chancery Hotel',\n",
       " 'Magic Box',\n",
       " 'Alchemy Coffee Roasters',\n",
       " 'Pin Me Down',\n",
       " 'Bengaluru House',\n",
       " 'Lassi Pot',\n",
       " 'Chilli Chicken',\n",
       " \"Kulkarni's New Uttara Karnataka Food Speciality Stores\",\n",
       " 'Cupcake Bliss',\n",
       " 'JW Kitchen - JW Marriott Bengaluru',\n",
       " 'Taco Bell',\n",
       " 'The Breakfast Truck',\n",
       " 'Taj Durbar',\n",
       " 'Church Street Social',\n",
       " 'Ande Ka Funda',\n",
       " 'Attic Lounge',\n",
       " 'Shanmukha',\n",
       " 'Swadisht Inn',\n",
       " 'Rasovara',\n",
       " 'Plantain Leaf',\n",
       " 'Mamagoto',\n",
       " 'Slate Cafe',\n",
       " 'Cafe Thulp',\n",
       " 'Kaulige Millet Corner',\n",
       " 'Feastaurant',\n",
       " 'Haji Ali Juice Centre',\n",
       " 'Go Native',\n",
       " 'Biriyani Mane',\n",
       " 'Mad Over Donuts',\n",
       " 'Frozen Bottle',\n",
       " 'B-hive',\n",
       " 'Ruh',\n",
       " 'Pizza Da Dhaba',\n",
       " 'Spice It',\n",
       " 'NGV Fast Food',\n",
       " 'Simon Says Brew Works',\n",
       " 'Rasoi',\n",
       " 'VT Sindhur Veg',\n",
       " 'Mishra Pedha',\n",
       " 'Udupi Upahar',\n",
       " \"Neffy's - Cakes & More\",\n",
       " 'Bon Sante',\n",
       " 'Ambika Vegetarian Hotel',\n",
       " 'Black Deer',\n",
       " 'Big Pitcher',\n",
       " 'Cafe Coffee Day The Lounge',\n",
       " 'Pizza Hut',\n",
       " 'Vietnamese Kitchen',\n",
       " 'Naati Manae',\n",
       " 'Nutri Rich',\n",
       " 'Ente Keralam',\n",
       " 'Imperio Restaurant',\n",
       " 'Taishty',\n",
       " 'Delish Chinese Fast Food',\n",
       " 'Top Foam Parantha Roll & Juice Centre',\n",
       " 'Daily Bread',\n",
       " 'Chutney Chang',\n",
       " \"Chetty's Coffee\",\n",
       " 'Ithaca - The Chancery Pavilion',\n",
       " 'Paratha Merchant',\n",
       " 'Truffles',\n",
       " 'The Hub - Ibis Hotel',\n",
       " 'Udupi Cafe',\n",
       " 'Eshmeet Da Dhaba',\n",
       " 'Andhra Biryanis',\n",
       " 'YORK St.',\n",
       " \"Vinny's\",\n",
       " 'Nandhini Deluxe',\n",
       " \"Kareem's\",\n",
       " 'Beer Adda',\n",
       " 'Keto Kitchen',\n",
       " 'Monsoon - The Park Bangalore',\n",
       " 'South Parade - The Chancery Hotel',\n",
       " 'Tasty Khaana Khazana',\n",
       " 'New Rajadhani Spicy',\n",
       " 'Third Wave Coffee Roasters',\n",
       " 'Kanti Sweets',\n",
       " 'Ovenstory Pizza',\n",
       " 'Sardarji Ka Dhaba',\n",
       " 'Uma Bhai Restaurant',\n",
       " 'Mahesh Friends Food Center',\n",
       " 'Swathi Deluxe Restaurant',\n",
       " 'Wow Vada Pav',\n",
       " 'Biriyani Nights',\n",
       " 'Baskin Robbins',\n",
       " 'The Tower Of Pizza',\n",
       " \"CafÃ\\x83Â\\x83Ã\\x82Â\\x83Ã\\x83Â\\x82Ã\\x82Â\\x83Ã\\x83Â\\x83Ã\\x82Â\\x82Ã\\x83Â\\x82Ã\\x82Â\\x83Ã\\x83Â\\x83Ã\\x82Â\\x83Ã\\x83Â\\x82Ã\\x82Â\\x82Ã\\x83Â\\x83Ã\\x82Â\\x82Ã\\x83Â\\x82Ã\\x82Â\\x83Ã\\x83Â\\x83Ã\\x82Â\\x83Ã\\x83Â\\x82Ã\\x82Â\\x83Ã\\x83Â\\x83Ã\\x82Â\\x82Ã\\x83Â\\x82Ã\\x82Â\\x82Ã\\x83Â\\x83Ã\\x82Â\\x83Ã\\x83Â\\x82Ã\\x82Â\\x82Ã\\x83Â\\x83Ã\\x82Â\\x82Ã\\x83Â\\x82Ã\\x82Â© Mor'ish\",\n",
       " 'The Biriyani Pedia',\n",
       " 'Just Bake',\n",
       " 'InnerChef',\n",
       " 'Chowmein',\n",
       " 'California Burrito',\n",
       " 'Raat Ki Rani',\n",
       " 'By 2 Coffee',\n",
       " 'Spicy Restaurant',\n",
       " 'The Bong',\n",
       " 'Bottoms Up Resto Bar',\n",
       " 'Shake It Off',\n",
       " 'Hyderabadi Zaiqa',\n",
       " 'Cream Stone',\n",
       " 'Luqma Restaurant',\n",
       " 'NoLimmits Lounge and Club',\n",
       " 'MRS Paradise',\n",
       " 'Nutty Squirrel',\n",
       " 'The Bier Library',\n",
       " 'Aathithya',\n",
       " 'The Donut Baker',\n",
       " \"Woody's\",\n",
       " 'Sugarberryz Cakery',\n",
       " \"Biggies Burger 'n' More\",\n",
       " 'La Mirch',\n",
       " 'La Grande Cafe',\n",
       " 'Desi Vdesi',\n",
       " 'Hotel Fish Land',\n",
       " 'Kudla - Hotel Ramanashree',\n",
       " 'Intriicake',\n",
       " 'Bhaijaan Barbeques',\n",
       " 'Shan Restaurant',\n",
       " 'Marwa Restaurant',\n",
       " 'Via Milano',\n",
       " 'M9 - Citrus Hotels',\n",
       " 'Apsara Ice Cream',\n",
       " 'Hotel Hyperdine',\n",
       " 'OPUS Club',\n",
       " 'I Cool',\n",
       " 'Taj Hotel',\n",
       " 'Davangere Benna Dose Hotel',\n",
       " 'Ambur Biryani Mess',\n",
       " 'Shahi Darbar',\n",
       " 'Mangalore Lunch Home',\n",
       " 'Giselle Resto Cafe',\n",
       " 'MRA',\n",
       " 'Biryani Junction',\n",
       " 'Hotel Shreekshetra',\n",
       " 'Cafe Velvette',\n",
       " 'Food Zone',\n",
       " 'New Aroma',\n",
       " \"Slo' Food Co.2\",\n",
       " 'The Ganache Factory',\n",
       " 'Chung Wah',\n",
       " 'Seasons',\n",
       " 'Lassi Xpress',\n",
       " 'Qube Cafe',\n",
       " 'Cool Corner',\n",
       " 'CAMP TANDOOR',\n",
       " 'KFC',\n",
       " 'Dhaba Express',\n",
       " \"Ta'aam\",\n",
       " 'Samosa Singh',\n",
       " 'Bellandur Kitchen',\n",
       " 'Golden Grill Restaurant',\n",
       " 'China On My Plate',\n",
       " 'Sri Lakshmi Vaibhav',\n",
       " 'Paratha Darbar',\n",
       " 'eat.fit',\n",
       " 'French Bakery',\n",
       " 'Ging - Royal Orchid Central',\n",
       " 'Shawarma Inc',\n",
       " 'Rajathadri Food Fort',\n",
       " \"Dande's Hyderabad Biryani\",\n",
       " 'Juicy',\n",
       " 'The CafÃ\\x83Â\\x83Ã\\x82Â\\x83Ã\\x83Â\\x82Ã\\x82Â\\x83Ã\\x83Â\\x83Ã\\x82Â\\x82Ã\\x83Â\\x82Ã\\x82Â\\x83Ã\\x83Â\\x83Ã\\x82Â\\x83Ã\\x83Â\\x82Ã\\x82Â\\x82Ã\\x83Â\\x83Ã\\x82Â\\x82Ã\\x83Â\\x82Ã\\x82Â© @ Saanchi',\n",
       " 'Taza Tawa',\n",
       " 'Sri Ganesh Juice Junction',\n",
       " 'Hot Cross Bun',\n",
       " 'Barista',\n",
       " 'Delite Chaat House',\n",
       " 'The Podium Sports Bar',\n",
       " 'Dhaba Bytes',\n",
       " 'Daily Sushi',\n",
       " 'Vaathsalya Millet Cafe',\n",
       " 'The Culinarium',\n",
       " 'House Of Wholewheat',\n",
       " \"McDonald's\",\n",
       " 'Petoo',\n",
       " 'Desi Bites',\n",
       " 'Cita Pani',\n",
       " 'Treat Restaurant',\n",
       " 'Sri Ganesha Fruit Juice Centre',\n",
       " 'Nammura Donne Biriyani',\n",
       " 'Sankranthi Veg Restaurant',\n",
       " 'Al Amanah Cafe',\n",
       " 'Garden Fresh',\n",
       " 'Assi Tussi Lassi',\n",
       " 'The Only Place',\n",
       " \"Bloomsbury's Global Kitchen & Bakehouse\",\n",
       " 'The Fixx',\n",
       " 'Cafe Repeat',\n",
       " 'Konfection Konnection',\n",
       " 'CakeWalk',\n",
       " 'Awesome Foods',\n",
       " 'Kumbakonam Degree Coffee',\n",
       " 'Brew Meister',\n",
       " 'New Leaf Restaurant',\n",
       " 'The Open Box',\n",
       " 'Ulavacharu',\n",
       " 'New Udupi Anand Bhavan',\n",
       " 'Andhra Ruchulu',\n",
       " 'New Farm Fresh',\n",
       " 'Brownie Heaven',\n",
       " 'Grand Village',\n",
       " 'Pecos Stones',\n",
       " 'Carrots',\n",
       " 'Plated',\n",
       " 'Maa Bhook Lagi',\n",
       " 'Empire Restaurant',\n",
       " \"Hotel Tom's Restaurant\",\n",
       " 'INDULGE by InnerChef',\n",
       " 'All Shook Up!',\n",
       " 'Kinpeetos',\n",
       " 'Stories',\n",
       " 'Fish Chain',\n",
       " 'Mustard Cafe',\n",
       " 'The Reservoire',\n",
       " 'Atithi Biryani Corner',\n",
       " 'Dice N Dine',\n",
       " 'Udupi Ruchi',\n",
       " 'Asha Food Camp',\n",
       " 'Tall Blonde French',\n",
       " 'New Shanthi Sagar',\n",
       " 'Parathe Wali Gali',\n",
       " 'Patville',\n",
       " 'Happy Fillings',\n",
       " 'Spices The Food Joint',\n",
       " 'Cauvery Fast Food',\n",
       " 'Dakshin Grand',\n",
       " 'The Egg Factory',\n",
       " 'The Mylapore Cafe',\n",
       " \"Baker's Home\",\n",
       " 'Chowpatty',\n",
       " 'Sri Rama Vilas Sweets',\n",
       " 'Meat And Eat',\n",
       " 'Jai Jinendra',\n",
       " 'Gufha - The President Hotel',\n",
       " 'Vijaya Sagar',\n",
       " 'Refresh',\n",
       " 'Le Charcoal Xpress',\n",
       " \"Malgudi's Donne Biriyani\",\n",
       " 'Ivy',\n",
       " 'Two Friends Cauldron',\n",
       " 'Shree Sadguru Refreshment',\n",
       " 'Bhojanam Restaurant',\n",
       " 'Kings Court',\n",
       " 'Swarga Ruchi',\n",
       " 'Tapout Tavern',\n",
       " 'All Saints Bakery',\n",
       " 'The Perfect Stop',\n",
       " 'WOW Momo',\n",
       " 'Lono',\n",
       " 'Kalingas',\n",
       " 'Crazy Pizza',\n",
       " 'The Himalayan',\n",
       " 'Hungry Travellers Cafe',\n",
       " 'Mugs N Burgers',\n",
       " 'Eatapita',\n",
       " 'Fruit Face',\n",
       " 'Litti Twist',\n",
       " 'Black Pepper Lounge - Case de Bengaluru',\n",
       " 'Regale Restaurant',\n",
       " 'American Bites',\n",
       " 'Tawa Tandoor',\n",
       " 'Hotel Parampare',\n",
       " 'Waah Chef',\n",
       " 'Burger King',\n",
       " 'Sea Salt',\n",
       " 'Biriyummy',\n",
       " 'Gods Own Cafe',\n",
       " 'Paratha Plaza',\n",
       " \"Indy's Comfort Food\",\n",
       " 'Market Table',\n",
       " \"Jimi's Beer Cafe\",\n",
       " 'Food And You',\n",
       " 'Desi Aahar',\n",
       " 'Nandhana Palace',\n",
       " 'Skylit - Citrus Hotels',\n",
       " 'Bangarpet Chats Corner',\n",
       " 'Foodie Nation',\n",
       " 'Fabcafe',\n",
       " 'Meghana Foods',\n",
       " 'T3H Cafe',\n",
       " 'Noodles',\n",
       " \"Narmadha's Hyderabad Biriyani\",\n",
       " 'Asha Sweets Centre',\n",
       " 'Chaatimes',\n",
       " 'Xpress Biryani',\n",
       " 'Just Shawarma',\n",
       " 'Paisa Vasool',\n",
       " 'Vishnu Sagar',\n",
       " 'Vandana Andhra and Multi Cuisine',\n",
       " 'Z-Bar',\n",
       " 'Shree Guru Raghavendra Chats Chintamani Special',\n",
       " 'Give Me 5 Cafe',\n",
       " 'Mahek of Punjab',\n",
       " 'Hatti Punjab Di',\n",
       " 'Desi Dhaba',\n",
       " '99 Pancakes',\n",
       " 'Retro Lounge Bar',\n",
       " 'Zaica Dine & Wine',\n",
       " 'Sartaj Ambur Dum Biryani',\n",
       " 'Svadu Sweets',\n",
       " 'Bombay Kulfi',\n",
       " 'Ghee Rice Family Restaurant',\n",
       " 'Ooty Chocolates',\n",
       " 'Midnight Eats',\n",
       " \"Begum's Biriyani\",\n",
       " 'Niice Cream',\n",
       " 'Juice Junction Food Court',\n",
       " 'Adithya',\n",
       " 'Cafe @ Elanza',\n",
       " 'Lazeez',\n",
       " 'Sannidhi Grand',\n",
       " 'Night Booze',\n",
       " 'Dhanya Nati Style Restaurant',\n",
       " 'Smokie Brownie',\n",
       " 'Hashtag Cafe',\n",
       " 'Lassi Shop',\n",
       " 'Biryanis And More',\n",
       " 'Shiro',\n",
       " 'Samrat Restaurant',\n",
       " 'Kanis Kitchen',\n",
       " \"Snack'Ups\",\n",
       " 'Min Mini Punjabi Dhaba',\n",
       " 'Eatwell Restaurant',\n",
       " 'Hotel Coronation',\n",
       " 'New Kudla Family Resturant',\n",
       " 'Naidu Military Hotel',\n",
       " 'GKT Biryani World',\n",
       " 'House Of Lassi',\n",
       " 'Biryani Palace',\n",
       " 'Zee5 Loft',\n",
       " 'Sri Udupi Sagar',\n",
       " 'China Pearl',\n",
       " \"The Fisherman's Wharf\",\n",
       " 'The Food Dude',\n",
       " 'LOFT38',\n",
       " 'Shivaji Military Hotel',\n",
       " 'Baahubelly',\n",
       " 'Tibbs Frankie',\n",
       " 'Talk Ease',\n",
       " 'Sri Udupi Veg',\n",
       " 'Ice Cream Works',\n",
       " 'Little Nature',\n",
       " 'Cake-O-Mania',\n",
       " 'Qissa Khawani',\n",
       " 'Paakam',\n",
       " 'Dine In',\n",
       " 'Cafe Monarch Luxur',\n",
       " 'Kebabs & Kurries - ITC Gardenia',\n",
       " 'Chantilly',\n",
       " 'Millers 46',\n",
       " 'Telugu Velugu',\n",
       " 'UP Style North Indian Food',\n",
       " 'Chulha Chauki Da Dhaba',\n",
       " 'Matka',\n",
       " 'Kolkata Famous Kati Rolls',\n",
       " 'Barbeque Nation',\n",
       " 'Chai Central',\n",
       " 'The Salt Grill - Hilton Bangalore Embassy Golflinks',\n",
       " 'Jalsa',\n",
       " 'Sunny Side Bistro',\n",
       " 'Tummy Fuel',\n",
       " 'Crumb Together',\n",
       " 'Darjeeling Momo Adda',\n",
       " 'Kerala Kitchen',\n",
       " 'Trick Or Treat',\n",
       " \"Glen's Bakehouse\",\n",
       " 'Mr Savji',\n",
       " 'Swathi Restaurant',\n",
       " 'Sai Mango Tree',\n",
       " 'You Mee',\n",
       " 'Samskruti - Sanman Gardenia',\n",
       " 'Kitchen On Table',\n",
       " 'Bistro Oui',\n",
       " 'Dessert Rose',\n",
       " 'The Lantern Restaurant & Bar - The Ritz-Carlton...',\n",
       " 'BISO - Citrus Hotels',\n",
       " 'Cariocake',\n",
       " 'Urban Bakes & Cafe',\n",
       " 'Beijing Bites',\n",
       " 'Tata Cha',\n",
       " 'Marenahalli Donne Biriyani',\n",
       " 'Biryani Pot',\n",
       " 'TOKI Taco House',\n",
       " \"Dunkin' Donuts\",\n",
       " \"Kapoor's Cafe\",\n",
       " 'Communiti',\n",
       " 'LayerBite',\n",
       " 'Estaa Sweets',\n",
       " 'Black Rock Cafe',\n",
       " \"Zoey's\",\n",
       " 'Magic Meals',\n",
       " 'OvenTreats - Patisserie.Bistro',\n",
       " 'Rimo',\n",
       " 'Sector 7 CafÃ\\x83Â\\x83Ã\\x82Â\\x83Ã\\x83Â\\x82Ã\\x82Â\\x83Ã\\x83Â\\x83Ã\\x82Â\\x82Ã\\x83Â\\x82Ã\\x82Â©',\n",
       " 'Zayakedar',\n",
       " 'Tasty Bites',\n",
       " 'Sri Ayodhya Veg',\n",
       " 'The Night King',\n",
       " 'Hyderabad Chefs',\n",
       " \"Sarvam's\",\n",
       " 'Cakes, Crumbs & Magic',\n",
       " \"Domino's Pizza\",\n",
       " 'Zyara',\n",
       " 'Chaarcoal',\n",
       " 'Amaravati',\n",
       " 'Khan Saab Hotel',\n",
       " 'Le Rosa Restaurant',\n",
       " \"Nando's\",\n",
       " 'Melange - Hotel Ekaa',\n",
       " 'Dasaprakash Cafe',\n",
       " 'Chefie',\n",
       " 'The Chocolate Room',\n",
       " 'Yauatcha PÃ\\x83Â\\x83Ã\\x82Â\\x83Ã\\x83Â\\x82Ã\\x82Â\\x83Ã\\x83Â\\x83Ã\\x82Â\\x82Ã\\x83Â\\x82Ã\\x82Â¢tisserie',\n",
       " 'In Wok',\n",
       " 'The Square Table',\n",
       " \"Hushy's Kitchen\",\n",
       " 'Faasos',\n",
       " 'Chaat Chatore',\n",
       " 'Bhojohori Manna',\n",
       " \"Kshatriya's Biriyani House\",\n",
       " 'Food Ka Masti',\n",
       " 'Kannur Food Point',\n",
       " 'Kailash Parbat',\n",
       " 'The Flavours',\n",
       " 'Aromas Of South',\n",
       " 'The Yogisthaan Cafe',\n",
       " 'Bangaliana',\n",
       " \"Swad 'E' Punjab\",\n",
       " 'Tenzin Kitchen',\n",
       " 'Konark Restaurant',\n",
       " \"Nadella's Kitchen\",\n",
       " 'Ambur Biriyani Point',\n",
       " 'The French Loaf',\n",
       " 'Firewood Biryani',\n",
       " 'Champaran Spice',\n",
       " 'Ganesh Restaurant',\n",
       " 'New Prashanth Hotel',\n",
       " 'Fullyfilled',\n",
       " 'Cafe Olive',\n",
       " 'Currylicious',\n",
       " 'Tummy Delight',\n",
       " 'The Cake Shop Mayura',\n",
       " 'Cinnamon - Renaissance Hotel, Bengaluru',\n",
       " 'Chickpet Donne Biryani House',\n",
       " 'Cake Box',\n",
       " 'Chef Delicacies',\n",
       " 'FRYBIES',\n",
       " 'Sri Vishnu Upahar',\n",
       " 'Crawl Street',\n",
       " \"Nawab's Kolkatta Roll\",\n",
       " 'Shan-e-Punjabi Express',\n",
       " 'Eatzgreen',\n",
       " 'On The Nose',\n",
       " 'Container Coffee',\n",
       " 'Namma Madurai',\n",
       " 'Bazaar - Zone By The Park',\n",
       " 'Karahi Kitchen',\n",
       " 'Kullukki',\n",
       " 'Nimma Mane',\n",
       " 'Prawn Crunch',\n",
       " 'SFC Kabab Corner',\n",
       " 'Rajvardhan Foods',\n",
       " 'New Punjabi Hotel',\n",
       " 'Soul City',\n",
       " 'CafÃ\\x83Â\\x83Ã\\x82Â\\x83Ã\\x83Â\\x82Ã\\x82Â\\x83Ã\\x83Â\\x83Ã\\x82Â\\x82Ã\\x83Â\\x82Ã\\x82Â© MH-28',\n",
       " 'AlienSip',\n",
       " 'Caferia',\n",
       " 'Godavari Delights',\n",
       " 'Mitraa Da Pizza',\n",
       " 'Deja Vu Resto Bar',\n",
       " 'Papacream',\n",
       " 'Bar UNO - JW Marriott Bengaluru',\n",
       " 'Tasty Jigarthanda',\n",
       " 'Barbeque Delight',\n",
       " 'Juicy Momos',\n",
       " 'White Horse',\n",
       " 'Sri Laxmi Venkateshwara Coffee Bar',\n",
       " 'The Market - The Ritz-Carlton',\n",
       " 'Shahi Family Restaurant',\n",
       " 'Sri Udupi Park',\n",
       " 'New Kabab Plaza',\n",
       " 'Shaahi Mezbaan Restaurant',\n",
       " \"Amma's Pastries\",\n",
       " 'Hotel Marina',\n",
       " 'Scottish Pub',\n",
       " 'Chai Point',\n",
       " 'Shaap',\n",
       " 'Bindu Garden Bar & Restaurant',\n",
       " 'New A1 Chicken Biryani Point',\n",
       " 'RÃ\\x83Â\\x83Ã\\x82Â\\x83Ã\\x83Â\\x82Ã\\x82Â\\x83Ã\\x83Â\\x83Ã\\x82Â\\x82Ã\\x83Â\\x82Ã\\x82Âªveur Chocolates',\n",
       " 'Drava',\n",
       " 'Smoke - The Sizzler House',\n",
       " 'Delhi Highway',\n",
       " 'Nadan Thattukada',\n",
       " 'Coastal Biryani Paradise',\n",
       " 'Southern Spice',\n",
       " \"Habib's Biryani\",\n",
       " 'Goli Vada Pav No. 1',\n",
       " 'Walnut Kitchen',\n",
       " 'R S Lunch Home',\n",
       " \"Taste Of Nawaab's\",\n",
       " 'The Blue Wagon - Kitchen',\n",
       " 'Cauvery Punjabi Khana',\n",
       " 'Bharanis',\n",
       " 'Bullet Biryani',\n",
       " 'Engine',\n",
       " 'Karachi Bakery',\n",
       " 'Om Sweets & Snacks',\n",
       " 'Banana Beach Bar',\n",
       " 'Sardarji Londonwaley',\n",
       " 'Savoury Restaurant',\n",
       " 'Hard Rock Cafe',\n",
       " 'Alankrutha',\n",
       " 'Big Chick Fried Chicken',\n",
       " 'Amrutha Sweets',\n",
       " 'Andhra Vilaas',\n",
       " 'Little Chef',\n",
       " 'Al-Madina',\n",
       " 'Burp',\n",
       " 'The Kitchen Story',\n",
       " 'Atomic Lab',\n",
       " \"Dadaba's\",\n",
       " 'Dabba Karkhana',\n",
       " 'Shreyas Upahar & Burger Point',\n",
       " 'Crafted Plate',\n",
       " 'Burrito Boys',\n",
       " 'Kaayal',\n",
       " 'Squeez Juice Bars',\n",
       " 'Eat N Drink',\n",
       " 'Imperio Cafe',\n",
       " 'Rolls & Co',\n",
       " 'Delicious Demons',\n",
       " 'Le Casse CroÃ\\x83Â\\x83Ã\\x82Â\\x83Ã\\x83Â\\x82Ã\\x82Â\\x83Ã\\x83Â\\x83Ã\\x82Â\\x82Ã\\x83Â\\x82Ã\\x82Â»te',\n",
       " 'Tangra Indo - Chinese Cuisine',\n",
       " 'Cooking Mom',\n",
       " 'Sri Saravana Bhavan',\n",
       " 'Amber Rush Restobar',\n",
       " 'Shri Ram Sweet Centre',\n",
       " 'Brewz Coffee',\n",
       " 'Oye Amritsar',\n",
       " 'CakeBox',\n",
       " 'Mayuri Multicuisine Restaurant',\n",
       " \"Wazir's\",\n",
       " 'Bhaiya Ji Food Court',\n",
       " 'Udupi Sri Krishna Bhavan',\n",
       " 'WOW! Momo',\n",
       " 'Kulfi & More',\n",
       " 'RR Catering',\n",
       " 'Chowk Tea Stall',\n",
       " 'Story Time',\n",
       " 'Cafe Mist',\n",
       " 'Karama Restaurant',\n",
       " 'Gramin',\n",
       " 'Harshi Super Sandwich',\n",
       " \"Bamey's Restro Cafe\",\n",
       " 'Facebake',\n",
       " 'Silsila',\n",
       " 'Tango Sandwich King',\n",
       " 'Amigos Kitchen',\n",
       " 'Mamatha Restaurant',\n",
       " 'A Southern Fair',\n",
       " 'Maaheshwari Chaat Wala',\n",
       " 'Appana Restaurant',\n",
       " 'PHEW (Play Hard Eat Wild)',\n",
       " 'Egg House',\n",
       " 'Nayi Dilli by Anand Sweets',\n",
       " 'The Flying Squirrel',\n",
       " 'Ayodhya Sagara',\n",
       " 'Abhiruchi Andhra Mess',\n",
       " 'Sri Guru Kottureshwara Davangere Benne Dosa',\n",
       " 'Nandhanus Rasoi',\n",
       " 'Hotel Junior Kuppanna',\n",
       " 'Five Star Chicken',\n",
       " 'Smokin Bites',\n",
       " 'Vijayawadawari Sandhya Andhra Mess',\n",
       " 'Kudil Kerala Kitchen',\n",
       " '1000 B.C',\n",
       " 'Firangi Bake',\n",
       " 'Indian Aroma Cafe',\n",
       " 'Cafe P Square',\n",
       " 'Bhaiyaji Food Court',\n",
       " \"Falafel's - The Lebanese Haus\",\n",
       " 'Anand Sweets and Savouries',\n",
       " 'J Spice',\n",
       " 'Tiger Trail - Ramada Hotel',\n",
       " 'Delhi Sweets',\n",
       " 'Cake Delights',\n",
       " \"Srinathji's\",\n",
       " 'Khane Ka Khazana',\n",
       " 'THE BEL ST.',\n",
       " '1947',\n",
       " 'Havmor',\n",
       " 'Rolls On Wheels',\n",
       " 'Mockaholic Restro Beer Cafe',\n",
       " \"Chetty's Corner\",\n",
       " 'Friends Diner',\n",
       " 'Ustaad Biryani',\n",
       " 'Apna Punjab',\n",
       " 'Saka Eatery Outlet',\n",
       " 'The Food Cottage',\n",
       " 'OKI',\n",
       " 'Happy Belly Bakes',\n",
       " '4 States',\n",
       " 'Three Dots & A Dash',\n",
       " \"Chawla's 2 Online.com\",\n",
       " 'Mithai Time',\n",
       " 'Take 5',\n",
       " 'The Adukkala Restaurant',\n",
       " 'Fanoos Xprss',\n",
       " '1441 Pizzeria',\n",
       " 'Silbatti',\n",
       " 'Mesa Lounge Bar - Svenska Design Hotel',\n",
       " 'Cafe 221B',\n",
       " 'The Brekkie Shop',\n",
       " 'Mak n Vak - Fyn',\n",
       " 'Tosco',\n",
       " 'Guzzlers Inn',\n",
       " 'Grow Fit',\n",
       " 'Mayur',\n",
       " 'Roll Wala',\n",
       " 'Leon Grill',\n",
       " 'Kesar Sweet Shop And Fast Food',\n",
       " 'Azimmo Treat',\n",
       " 'Kadai Restaurant',\n",
       " 'Kevins Kitchen',\n",
       " \"Stevie's\",\n",
       " 'Kitchens@Mahadevpura',\n",
       " 'Delhiciouss',\n",
       " 'Master Chifoo',\n",
       " 'New Sagar Fast food',\n",
       " 'Amexicano',\n",
       " 'Rustic Stove',\n",
       " 'Tayabbs',\n",
       " 'Indian Kitchen Eateries-IKE',\n",
       " 'Cake Town Cafe',\n",
       " 'The Belgian Waffle Co.',\n",
       " 'Home Treat',\n",
       " 'The Local - Burger Bar',\n",
       " 'Swaadpurna',\n",
       " 'Aasife & Brothers Biriyani Centre',\n",
       " 'Desi Breakk',\n",
       " 'Tandoor Hut',\n",
       " 'Subway',\n",
       " 'Eden Park',\n",
       " 'Gokul Veg',\n",
       " 'The Bao Belly',\n",
       " 'Sea Spice by 7 Star',\n",
       " 'Peace Restaurant',\n",
       " 'Cafe Idly',\n",
       " 'The Dreamy Oven',\n",
       " 'Meenu Oota Da Maane',\n",
       " 'Swad',\n",
       " 'Eat Repeat',\n",
       " 'Hammered',\n",
       " 'Momo Mania',\n",
       " 'ReadyBowl',\n",
       " 'The RoofTop',\n",
       " 'Armaani Caffe',\n",
       " 'Peppa Zzing',\n",
       " 'RP Sweets',\n",
       " 'Hatti Kaapi',\n",
       " 'TangyLicious',\n",
       " 'Bangarpet Chats',\n",
       " \"Stars 'N' Stripes\",\n",
       " 'Hasini Foods',\n",
       " 'Pasta Street',\n",
       " \"Mummy's Kitchen\",\n",
       " 'Little Green Cafe',\n",
       " \"Shammah's\",\n",
       " \"Diya's Findish\",\n",
       " 'Hasee-E-Shan Makers Of Biryani',\n",
       " 'The Chervil',\n",
       " 'Chai Street',\n",
       " \"AM's Cafe Recreate\",\n",
       " '154 Breakfast Club',\n",
       " 'Kitchen King Naati Style',\n",
       " 'Vinay Bhel Corner',\n",
       " 'Marwari Basa',\n",
       " 'Arya Bhavan Sweets',\n",
       " 'Cool Joint',\n",
       " 'KLINX - Hilton Bangalore Embassy GolfLinks',\n",
       " 'Cafe HIGHRANGERS',\n",
       " 'Sri Rama',\n",
       " 'Dharwad Line Bazar Mishra Pedha',\n",
       " 'Hotel New Karavali',\n",
       " 'Donne Biryani Angadi Mane',\n",
       " 'Nomadic Tandoor',\n",
       " 'Chatter Platter',\n",
       " 'CafÃ\\x83Â\\x83Ã\\x82Â\\x83Ã\\x83Â\\x82Ã\\x82Â\\x83Ã\\x83Â\\x83Ã\\x82Â\\x82Ã\\x83Â\\x82Ã\\x82Â\\x83Ã\\x83Â\\x83Ã\\x82Â\\x83Ã\\x83Â\\x82Ã\\x82Â\\x82Ã\\x83Â\\x83Ã\\x82Â\\x82Ã\\x83Â\\x82Ã\\x82Â© Secret Alley',\n",
       " 'Coconut Grove',\n",
       " 'Belgian Waffle Factory',\n",
       " 'Clean Bowled',\n",
       " 'Lifetree CafÃ\\x83Â\\x83Ã\\x82Â\\x83Ã\\x83Â\\x82Ã\\x82Â\\x83Ã\\x83Â\\x83Ã\\x82Â\\x82Ã\\x83Â\\x82Ã\\x82Â\\x83Ã\\x83Â\\x83Ã\\x82Â\\x83Ã\\x83Â\\x82Ã\\x82Â\\x82Ã\\x83Â\\x83Ã\\x82Â\\x82Ã\\x83Â\\x82Ã\\x82Â©',\n",
       " 'Mandya Gowdru Donne Biriyani',\n",
       " 'Roti Shotti',\n",
       " 'Chef Master',\n",
       " 'Jayanagara Donne Biryani',\n",
       " '12th Main - Grand Mercure',\n",
       " \"Chung's Chinese Corner\",\n",
       " 'A Hole Lotta Love Cafe',\n",
       " '7 Degrees North',\n",
       " 'Chels Cafe',\n",
       " 'Flavors of India',\n",
       " 'Shiv Sagar',\n",
       " 'Eat Sleep Eat Repeat',\n",
       " 'Biryani House',\n",
       " 'Sri Lakshmi Darshini',\n",
       " 'Avon Bar & Kitchen',\n",
       " 'Unico',\n",
       " 'Crunch Pizzas',\n",
       " 'Bufferia',\n",
       " 'Malties - Radisson Blu',\n",
       " 'Waffle Stories',\n",
       " 'Onesta',\n",
       " 'Corner House Ice Cream',\n",
       " 'Cuppa',\n",
       " 'Mahesh Lunch Home',\n",
       " 'The Shawarma Shop',\n",
       " \"Cafe D'hide\",\n",
       " 'Casa Express',\n",
       " 'New Karawali Lunch Home',\n",
       " 'Loveshack',\n",
       " 'Tripura Express',\n",
       " \"Snow'ora\",\n",
       " 'The Souk',\n",
       " 'China Tang',\n",
       " 'Bawarchi Khaana',\n",
       " 'The Meal Story',\n",
       " \"CafÃ\\x83Â\\x83Ã\\x82Â\\x83Ã\\x83Â\\x82Ã\\x82Â\\x83Ã\\x83Â\\x83Ã\\x82Â\\x82Ã\\x83Â\\x82Ã\\x82Â\\x83Ã\\x83Â\\x83Ã\\x82Â\\x83Ã\\x83Â\\x82Ã\\x82Â\\x82Ã\\x83Â\\x83Ã\\x82Â\\x82Ã\\x83Â\\x82Ã\\x82Â© Mor'ish\",\n",
       " 'Paradox Rest-O-Cafe',\n",
       " 'The Caramelts Cafe',\n",
       " 'Green Pepper',\n",
       " 'Mabra Family Restaurant',\n",
       " 'BanBay',\n",
       " 'Kwatlay Rest-O-Cafe',\n",
       " 'Fish Factory-Citrus Hotel',\n",
       " 'Cafe Mozaic - Taj MG Road Bengaluru',\n",
       " 'Dessi Cuppa',\n",
       " 'Mysuru Coffee Thindi',\n",
       " 'ONE IN A MELON',\n",
       " 'Green Theory',\n",
       " 'Midnight Pizza Slurpp',\n",
       " 'Chination',\n",
       " 'Turquoise',\n",
       " 'Gudguda Prime Cafe',\n",
       " 'Bansuri Sweets',\n",
       " 'Art of Delight',\n",
       " 'Canopy',\n",
       " 'Dosalicious',\n",
       " 'Parathe Ghar Ke',\n",
       " 'The Paratha Stories',\n",
       " 'Dosa Plaza',\n",
       " 'Fava',\n",
       " 'Restro Cafe',\n",
       " \"Reddy's Restaurant\",\n",
       " 'Ambur Hot Dum Biryani',\n",
       " 'Basmati Restaurant',\n",
       " 'The Flying Cup',\n",
       " 'Shanthi Sagar',\n",
       " 'Aubree Le Chocolatier',\n",
       " 'Prems Graama Bhojanam',\n",
       " 'Bella',\n",
       " 'Hyderabadi Biriyani',\n",
       " 'Bhikaram Chandmal Bhujiawala',\n",
       " 'Donne Biriyani Angadi Mane',\n",
       " \"Watson's\",\n",
       " 'The Diner',\n",
       " 'The Fat Chef',\n",
       " 'Singh Da Dhaba',\n",
       " 'Bajji House',\n",
       " 'WTF',\n",
       " 'Gundappa Donne Biryani Mane',\n",
       " \"90's Beer Cafe - Hotel Millennium Plaza\",\n",
       " 'Pinxx - Royal Orchid Central',\n",
       " 'New Delicacy',\n",
       " 'Cafe Grill',\n",
       " 'Casa Piccosa',\n",
       " 'RS Shiv Sagar',\n",
       " 'Drunken Monkey',\n",
       " 'Japan Travel Cafe Azuki',\n",
       " 'Prashanth Grand',\n",
       " 'Enroute',\n",
       " 'Hotel Fanoos',\n",
       " 'Kabab Magic',\n",
       " 'Jalaram Sweets',\n",
       " 'Masala Central',\n",
       " 'Rolls Kitchen',\n",
       " 'Bademiyan Kebabs',\n",
       " 'Idly Pidly',\n",
       " 'Mandarin Box',\n",
       " 'Citrus Cafe - Lemon Tree Hotel',\n",
       " 'Bhukkad',\n",
       " 'Gundappa Donne Biryani',\n",
       " 'Black Cup Cafe',\n",
       " \"Sathya's\",\n",
       " \"Harry's Bar + Cafe\",\n",
       " '7 Days Restaurant',\n",
       " \"Mini Adiga's\",\n",
       " 'Sri Krishna Foodline',\n",
       " 'Whooppeezz',\n",
       " 'Delicacy',\n",
       " 'Raenss Cafe',\n",
       " 'Indira Darshini',\n",
       " 'Kaapi Kendra',\n",
       " 'Memories of China - Taj MG Road Bengaluru',\n",
       " 'Dr. Shawarma',\n",
       " 'Aditya Delights',\n",
       " 'Kumarakom',\n",
       " 'Anda Ka Funda',\n",
       " 'Fuel Resto Bar',\n",
       " 'Late Night',\n",
       " 'CAFE NOVA',\n",
       " 'Toscano',\n",
       " 'One Stop MARATHA',\n",
       " 'Richie Rich',\n",
       " 'Over The Top Terrace Lounge',\n",
       " 'Hotel Palace',\n",
       " 'Eunoia',\n",
       " \"Mani's Dum Biryani\",\n",
       " 'Puran da Dhaba - The Pride Hotel',\n",
       " 'Momo Jojo',\n",
       " 'Slice of Spice',\n",
       " \"Bengaluru's Biryanis Paradise\",\n",
       " 'Billionaires Cafe',\n",
       " 'Cafe Vivacity',\n",
       " 'Republic Of Noodles - Lemon Tree Premier',\n",
       " 'Upsouth',\n",
       " 'Little Italy',\n",
       " 'Bawarchi',\n",
       " 'Kentacky Chicken Corner',\n",
       " 'The Waverly Express',\n",
       " 'Sultan - Palace Darbar Restaurant',\n",
       " '7 Plates',\n",
       " \"BabaYaga's\",\n",
       " 'Just Chill',\n",
       " '1131 Bar + Kitchen',\n",
       " 'Sri Rajasthani Foods',\n",
       " 'Fusion Panda',\n",
       " 'V B Bakery',\n",
       " 'Cafe Graffiters',\n",
       " 'Funjabi',\n",
       " 'Euki',\n",
       " \"Kollapuri's\",\n",
       " 'Casa De Goa',\n",
       " \"Reddy's Paradise\",\n",
       " 'Imperial Restaurant',\n",
       " 'Namakh Store And Cafe',\n",
       " 'Sidewalk Cafe & Bar - The Paul Bangalore',\n",
       " 'Hotel Uma Bhai',\n",
       " 'Happy Chopsticks',\n",
       " 'Refills Eatery And Beverages',\n",
       " 'Cafe Cerrise',\n",
       " 'Cookie Man',\n",
       " 'Momo Bites',\n",
       " 'The Sofraah Kebabs & Kurries - Eden Park Restaurants',\n",
       " 'Rekha Restaurant',\n",
       " 'The Beer Cafe',\n",
       " 'Polar Bear',\n",
       " \"Shiva's Naram Garam\",\n",
       " 'Coconadu',\n",
       " 'Northern Bites',\n",
       " 'Oh My Chaat',\n",
       " 'Thalassery Restaurant',\n",
       " 'Mysore Carnival Restaurant',\n",
       " 'Laziz Pizza',\n",
       " 'Amaravati Authentic Andhra Restaurant',\n",
       " 'Kadamba Gardenia',\n",
       " 'Sbarro',\n",
       " 'Ranganna Military Hotel',\n",
       " 'Blue Tokai Coffee Roasters',\n",
       " 'Head O State',\n",
       " \"Bob's Bar\",\n",
       " 'Starbucks',\n",
       " 'Lassi Corner',\n",
       " 'Brew Point',\n",
       " 'Roll Over',\n",
       " '3 Spice',\n",
       " 'Panchavati Gaurav Thali',\n",
       " 'Peppy Peppers',\n",
       " 'Dhang Ka Khana',\n",
       " 'Wokanaka - The Casual Chinese Pitstop',\n",
       " 'Antilla Aromas',\n",
       " 'Suchithra Biryani House',\n",
       " 'Veruthe Oru Thattukada',\n",
       " 'Shee-Sha Cafe',\n",
       " 'Bhagini Kitchen And Bar',\n",
       " 'Paratha Junction',\n",
       " 'Brownie Points',\n",
       " 'XO Belgian Waffle',\n",
       " 'Royal Calcutta Restaurant',\n",
       " 'Cafe Alchemist',\n",
       " 'Kanteen 038',\n",
       " \"Jerry Mama's\",\n",
       " 'Cafe Fattoush',\n",
       " \"Quickie's\",\n",
       " 'Tandoor Da Funda',\n",
       " 'The Litti Company',\n",
       " 'Stonelicious',\n",
       " 'Platter',\n",
       " 'Sri Guru Nalapaka Restaurant',\n",
       " 'Izakaya Gastro Pub',\n",
       " 'S.W.A.T Food Truck',\n",
       " 'Tandoor Garden',\n",
       " 'Donne Biriyani Mane',\n",
       " '55 Wall Street',\n",
       " ...]"
      ]
     },
     "execution_count": 71,
     "metadata": {},
     "output_type": "execute_result"
    }
   ],
   "source": [
    "restaurant_names"
   ]
  },
  {
   "cell_type": "code",
   "execution_count": 72,
   "metadata": {},
   "outputs": [
    {
     "data": {
      "text/plain": [
       "5710"
      ]
     },
     "execution_count": 72,
     "metadata": {},
     "output_type": "execute_result"
    }
   ],
   "source": [
    "len(restaurant_names)"
   ]
  },
  {
   "cell_type": "markdown",
   "metadata": {},
   "source": [
    "## Sentimental Analysis"
   ]
  },
  {
   "cell_type": "code",
   "execution_count": 73,
   "metadata": {},
   "outputs": [],
   "source": [
    "from textblob import TextBlob"
   ]
  },
  {
   "cell_type": "code",
   "execution_count": 74,
   "metadata": {},
   "outputs": [],
   "source": [
    "# Adding 'length', 'words_count' and 'polarity' columns to dataset"
   ]
  },
  {
   "cell_type": "code",
   "execution_count": 75,
   "metadata": {},
   "outputs": [],
   "source": [
    "data_new['length'] = data_new[\"reviews\"].apply(lambda x: len(x))"
   ]
  },
  {
   "cell_type": "code",
   "execution_count": 76,
   "metadata": {},
   "outputs": [],
   "source": [
    "data_new['word_count'] = data_new['reviews'].apply(lambda x: len(x.split()))"
   ]
  },
  {
   "cell_type": "code",
   "execution_count": 77,
   "metadata": {},
   "outputs": [],
   "source": [
    "data_new['polarity'] = data_new['reviews'].apply(lambda x: TextBlob(x).sentiment.polarity)"
   ]
  },
  {
   "cell_type": "code",
   "execution_count": 78,
   "metadata": {},
   "outputs": [
    {
     "data": {
      "text/html": [
       "<div>\n",
       "<style scoped>\n",
       "    .dataframe tbody tr th:only-of-type {\n",
       "        vertical-align: middle;\n",
       "    }\n",
       "\n",
       "    .dataframe tbody tr th {\n",
       "        vertical-align: top;\n",
       "    }\n",
       "\n",
       "    .dataframe thead th {\n",
       "        text-align: right;\n",
       "    }\n",
       "</style>\n",
       "<table border=\"1\" class=\"dataframe\">\n",
       "  <thead>\n",
       "    <tr style=\"text-align: right;\">\n",
       "      <th></th>\n",
       "      <th>name</th>\n",
       "      <th>ratings</th>\n",
       "      <th>reviews</th>\n",
       "      <th>Mean Rating</th>\n",
       "      <th>length</th>\n",
       "      <th>word_count</th>\n",
       "      <th>polarity</th>\n",
       "    </tr>\n",
       "  </thead>\n",
       "  <tbody>\n",
       "    <tr>\n",
       "      <th>0</th>\n",
       "      <td>Corner Huts</td>\n",
       "      <td>3.8</td>\n",
       "      <td>rated 40 ratedn place dinner husband sure expl...</td>\n",
       "      <td>3.58</td>\n",
       "      <td>423</td>\n",
       "      <td>61</td>\n",
       "      <td>0.216667</td>\n",
       "    </tr>\n",
       "    <tr>\n",
       "      <th>1</th>\n",
       "      <td>Oregano Soul Food</td>\n",
       "      <td>4.1</td>\n",
       "      <td>rated 50 ratedn loved place awesome food great...</td>\n",
       "      <td>3.97</td>\n",
       "      <td>1609</td>\n",
       "      <td>229</td>\n",
       "      <td>0.308167</td>\n",
       "    </tr>\n",
       "    <tr>\n",
       "      <th>2</th>\n",
       "      <td>Pepperwood</td>\n",
       "      <td>3.7</td>\n",
       "      <td>rated 30 ratedn got delivery place food good s...</td>\n",
       "      <td>3.52</td>\n",
       "      <td>1975</td>\n",
       "      <td>198</td>\n",
       "      <td>0.144174</td>\n",
       "    </tr>\n",
       "    <tr>\n",
       "      <th>3</th>\n",
       "      <td>Dawat Midnight Express</td>\n",
       "      <td>3.1</td>\n",
       "      <td>rated 40 ratedn loved chicken fried rice nothi...</td>\n",
       "      <td>2.68</td>\n",
       "      <td>181</td>\n",
       "      <td>27</td>\n",
       "      <td>-0.100000</td>\n",
       "    </tr>\n",
       "    <tr>\n",
       "      <th>4</th>\n",
       "      <td>RockSalt</td>\n",
       "      <td>4.4</td>\n",
       "      <td>rated 30 ratedn visited place friends tried 3 ...</td>\n",
       "      <td>4.35</td>\n",
       "      <td>19476</td>\n",
       "      <td>2070</td>\n",
       "      <td>0.311511</td>\n",
       "    </tr>\n",
       "  </tbody>\n",
       "</table>\n",
       "</div>"
      ],
      "text/plain": [
       "                     name  ratings  \\\n",
       "0             Corner Huts      3.8   \n",
       "1       Oregano Soul Food      4.1   \n",
       "2              Pepperwood      3.7   \n",
       "3  Dawat Midnight Express      3.1   \n",
       "4                RockSalt      4.4   \n",
       "\n",
       "                                             reviews  Mean Rating  length  \\\n",
       "0  rated 40 ratedn place dinner husband sure expl...         3.58     423   \n",
       "1  rated 50 ratedn loved place awesome food great...         3.97    1609   \n",
       "2  rated 30 ratedn got delivery place food good s...         3.52    1975   \n",
       "3  rated 40 ratedn loved chicken fried rice nothi...         2.68     181   \n",
       "4  rated 30 ratedn visited place friends tried 3 ...         4.35   19476   \n",
       "\n",
       "   word_count  polarity  \n",
       "0          61  0.216667  \n",
       "1         229  0.308167  \n",
       "2         198  0.144174  \n",
       "3          27 -0.100000  \n",
       "4        2070  0.311511  "
      ]
     },
     "execution_count": 78,
     "metadata": {},
     "output_type": "execute_result"
    }
   ],
   "source": [
    "data_new.head()"
   ]
  },
  {
   "cell_type": "code",
   "execution_count": 79,
   "metadata": {},
   "outputs": [
    {
     "data": {
      "text/html": [
       "<div>\n",
       "<style scoped>\n",
       "    .dataframe tbody tr th:only-of-type {\n",
       "        vertical-align: middle;\n",
       "    }\n",
       "\n",
       "    .dataframe tbody tr th {\n",
       "        vertical-align: top;\n",
       "    }\n",
       "\n",
       "    .dataframe thead th {\n",
       "        text-align: right;\n",
       "    }\n",
       "</style>\n",
       "<table border=\"1\" class=\"dataframe\">\n",
       "  <thead>\n",
       "    <tr style=\"text-align: right;\">\n",
       "      <th></th>\n",
       "      <th>ratings</th>\n",
       "      <th>Mean Rating</th>\n",
       "      <th>length</th>\n",
       "      <th>word_count</th>\n",
       "      <th>polarity</th>\n",
       "    </tr>\n",
       "  </thead>\n",
       "  <tbody>\n",
       "    <tr>\n",
       "      <th>count</th>\n",
       "      <td>18563.000000</td>\n",
       "      <td>18563.000000</td>\n",
       "      <td>18563.000000</td>\n",
       "      <td>18563.000000</td>\n",
       "      <td>18563.000000</td>\n",
       "    </tr>\n",
       "    <tr>\n",
       "      <th>mean</th>\n",
       "      <td>3.718117</td>\n",
       "      <td>3.475005</td>\n",
       "      <td>8572.784571</td>\n",
       "      <td>1100.188709</td>\n",
       "      <td>0.227832</td>\n",
       "    </tr>\n",
       "    <tr>\n",
       "      <th>std</th>\n",
       "      <td>0.441481</td>\n",
       "      <td>0.540867</td>\n",
       "      <td>21557.415376</td>\n",
       "      <td>2622.689372</td>\n",
       "      <td>0.176680</td>\n",
       "    </tr>\n",
       "    <tr>\n",
       "      <th>min</th>\n",
       "      <td>1.800000</td>\n",
       "      <td>1.000000</td>\n",
       "      <td>0.000000</td>\n",
       "      <td>0.000000</td>\n",
       "      <td>-1.000000</td>\n",
       "    </tr>\n",
       "    <tr>\n",
       "      <th>25%</th>\n",
       "      <td>3.400000</td>\n",
       "      <td>3.120000</td>\n",
       "      <td>489.000000</td>\n",
       "      <td>68.000000</td>\n",
       "      <td>0.140417</td>\n",
       "    </tr>\n",
       "    <tr>\n",
       "      <th>50%</th>\n",
       "      <td>3.800000</td>\n",
       "      <td>3.450000</td>\n",
       "      <td>1316.000000</td>\n",
       "      <td>175.000000</td>\n",
       "      <td>0.247543</td>\n",
       "    </tr>\n",
       "    <tr>\n",
       "      <th>75%</th>\n",
       "      <td>4.000000</td>\n",
       "      <td>3.840000</td>\n",
       "      <td>4695.500000</td>\n",
       "      <td>603.000000</td>\n",
       "      <td>0.329261</td>\n",
       "    </tr>\n",
       "    <tr>\n",
       "      <th>max</th>\n",
       "      <td>4.900000</td>\n",
       "      <td>5.000000</td>\n",
       "      <td>421585.000000</td>\n",
       "      <td>47221.000000</td>\n",
       "      <td>1.000000</td>\n",
       "    </tr>\n",
       "  </tbody>\n",
       "</table>\n",
       "</div>"
      ],
      "text/plain": [
       "            ratings   Mean Rating         length    word_count      polarity\n",
       "count  18563.000000  18563.000000   18563.000000  18563.000000  18563.000000\n",
       "mean       3.718117      3.475005    8572.784571   1100.188709      0.227832\n",
       "std        0.441481      0.540867   21557.415376   2622.689372      0.176680\n",
       "min        1.800000      1.000000       0.000000      0.000000     -1.000000\n",
       "25%        3.400000      3.120000     489.000000     68.000000      0.140417\n",
       "50%        3.800000      3.450000    1316.000000    175.000000      0.247543\n",
       "75%        4.000000      3.840000    4695.500000    603.000000      0.329261\n",
       "max        4.900000      5.000000  421585.000000  47221.000000      1.000000"
      ]
     },
     "execution_count": 79,
     "metadata": {},
     "output_type": "execute_result"
    }
   ],
   "source": [
    "data_new.describe()"
   ]
  },
  {
   "cell_type": "code",
   "execution_count": 80,
   "metadata": {},
   "outputs": [
    {
     "data": {
      "text/html": [
       "<div>\n",
       "<style scoped>\n",
       "    .dataframe tbody tr th:only-of-type {\n",
       "        vertical-align: middle;\n",
       "    }\n",
       "\n",
       "    .dataframe tbody tr th {\n",
       "        vertical-align: top;\n",
       "    }\n",
       "\n",
       "    .dataframe thead th {\n",
       "        text-align: right;\n",
       "    }\n",
       "</style>\n",
       "<table border=\"1\" class=\"dataframe\">\n",
       "  <thead>\n",
       "    <tr style=\"text-align: right;\">\n",
       "      <th></th>\n",
       "      <th>name</th>\n",
       "      <th>ratings</th>\n",
       "      <th>reviews</th>\n",
       "      <th>Mean Rating</th>\n",
       "      <th>length</th>\n",
       "      <th>word_count</th>\n",
       "      <th>polarity</th>\n",
       "    </tr>\n",
       "  </thead>\n",
       "  <tbody>\n",
       "    <tr>\n",
       "      <th>0</th>\n",
       "      <td>Corner Huts</td>\n",
       "      <td>3.8</td>\n",
       "      <td>rated 40 ratedn place dinner husband sure expl...</td>\n",
       "      <td>3.58</td>\n",
       "      <td>423</td>\n",
       "      <td>61</td>\n",
       "      <td>0.216667</td>\n",
       "    </tr>\n",
       "    <tr>\n",
       "      <th>1</th>\n",
       "      <td>Oregano Soul Food</td>\n",
       "      <td>4.1</td>\n",
       "      <td>rated 50 ratedn loved place awesome food great...</td>\n",
       "      <td>3.97</td>\n",
       "      <td>1609</td>\n",
       "      <td>229</td>\n",
       "      <td>0.308167</td>\n",
       "    </tr>\n",
       "    <tr>\n",
       "      <th>2</th>\n",
       "      <td>Pepperwood</td>\n",
       "      <td>3.7</td>\n",
       "      <td>rated 30 ratedn got delivery place food good s...</td>\n",
       "      <td>3.52</td>\n",
       "      <td>1975</td>\n",
       "      <td>198</td>\n",
       "      <td>0.144174</td>\n",
       "    </tr>\n",
       "    <tr>\n",
       "      <th>4</th>\n",
       "      <td>RockSalt</td>\n",
       "      <td>4.4</td>\n",
       "      <td>rated 30 ratedn visited place friends tried 3 ...</td>\n",
       "      <td>4.35</td>\n",
       "      <td>19476</td>\n",
       "      <td>2070</td>\n",
       "      <td>0.311511</td>\n",
       "    </tr>\n",
       "    <tr>\n",
       "      <th>5</th>\n",
       "      <td>Bite Me Cupcakes</td>\n",
       "      <td>4.1</td>\n",
       "      <td>rated 50 ratedn order pancakes nd loved nice p...</td>\n",
       "      <td>4.01</td>\n",
       "      <td>1354</td>\n",
       "      <td>184</td>\n",
       "      <td>0.412500</td>\n",
       "    </tr>\n",
       "    <tr>\n",
       "      <th>...</th>\n",
       "      <td>...</td>\n",
       "      <td>...</td>\n",
       "      <td>...</td>\n",
       "      <td>...</td>\n",
       "      <td>...</td>\n",
       "      <td>...</td>\n",
       "      <td>...</td>\n",
       "    </tr>\n",
       "    <tr>\n",
       "      <th>18557</th>\n",
       "      <td>Skyline Family Restaurant</td>\n",
       "      <td>3.4</td>\n",
       "      <td>rated 50 ratedn awesome taste rated 20 ratedn ...</td>\n",
       "      <td>2.98</td>\n",
       "      <td>1910</td>\n",
       "      <td>304</td>\n",
       "      <td>0.127804</td>\n",
       "    </tr>\n",
       "    <tr>\n",
       "      <th>18558</th>\n",
       "      <td>The 3 Musketeers</td>\n",
       "      <td>3.2</td>\n",
       "      <td>rated 50 ratedn lot flavoursgood service quali...</td>\n",
       "      <td>2.81</td>\n",
       "      <td>674</td>\n",
       "      <td>99</td>\n",
       "      <td>0.355758</td>\n",
       "    </tr>\n",
       "    <tr>\n",
       "      <th>18559</th>\n",
       "      <td>Navarang Fast Food</td>\n",
       "      <td>3.6</td>\n",
       "      <td>rated 50 ratedn services good foods quality re...</td>\n",
       "      <td>3.32</td>\n",
       "      <td>141</td>\n",
       "      <td>22</td>\n",
       "      <td>0.516667</td>\n",
       "    </tr>\n",
       "    <tr>\n",
       "      <th>18561</th>\n",
       "      <td>Cafe Mozaic - Taj MG Road Bengaluru</td>\n",
       "      <td>4.1</td>\n",
       "      <td>rated 50 ratedn continental indian restaurantn...</td>\n",
       "      <td>3.97</td>\n",
       "      <td>1325</td>\n",
       "      <td>186</td>\n",
       "      <td>0.284099</td>\n",
       "    </tr>\n",
       "    <tr>\n",
       "      <th>18562</th>\n",
       "      <td>Billionaires Cafe</td>\n",
       "      <td>3.8</td>\n",
       "      <td>rated 20 ratedn went last month mostly empty g...</td>\n",
       "      <td>3.58</td>\n",
       "      <td>313</td>\n",
       "      <td>47</td>\n",
       "      <td>0.394444</td>\n",
       "    </tr>\n",
       "  </tbody>\n",
       "</table>\n",
       "<p>14263 rows × 7 columns</p>\n",
       "</div>"
      ],
      "text/plain": [
       "                                      name  ratings  \\\n",
       "0                              Corner Huts      3.8   \n",
       "1                        Oregano Soul Food      4.1   \n",
       "2                               Pepperwood      3.7   \n",
       "4                                 RockSalt      4.4   \n",
       "5                         Bite Me Cupcakes      4.1   \n",
       "...                                    ...      ...   \n",
       "18557            Skyline Family Restaurant      3.4   \n",
       "18558                     The 3 Musketeers      3.2   \n",
       "18559                   Navarang Fast Food      3.6   \n",
       "18561  Cafe Mozaic - Taj MG Road Bengaluru      4.1   \n",
       "18562                    Billionaires Cafe      3.8   \n",
       "\n",
       "                                                 reviews  Mean Rating  length  \\\n",
       "0      rated 40 ratedn place dinner husband sure expl...         3.58     423   \n",
       "1      rated 50 ratedn loved place awesome food great...         3.97    1609   \n",
       "2      rated 30 ratedn got delivery place food good s...         3.52    1975   \n",
       "4      rated 30 ratedn visited place friends tried 3 ...         4.35   19476   \n",
       "5      rated 50 ratedn order pancakes nd loved nice p...         4.01    1354   \n",
       "...                                                  ...          ...     ...   \n",
       "18557  rated 50 ratedn awesome taste rated 20 ratedn ...         2.98    1910   \n",
       "18558  rated 50 ratedn lot flavoursgood service quali...         2.81     674   \n",
       "18559  rated 50 ratedn services good foods quality re...         3.32     141   \n",
       "18561  rated 50 ratedn continental indian restaurantn...         3.97    1325   \n",
       "18562  rated 20 ratedn went last month mostly empty g...         3.58     313   \n",
       "\n",
       "       word_count  polarity  \n",
       "0              61  0.216667  \n",
       "1             229  0.308167  \n",
       "2             198  0.144174  \n",
       "4            2070  0.311511  \n",
       "5             184  0.412500  \n",
       "...           ...       ...  \n",
       "18557         304  0.127804  \n",
       "18558          99  0.355758  \n",
       "18559          22  0.516667  \n",
       "18561         186  0.284099  \n",
       "18562          47  0.394444  \n",
       "\n",
       "[14263 rows x 7 columns]"
      ]
     },
     "execution_count": 80,
     "metadata": {},
     "output_type": "execute_result"
    }
   ],
   "source": [
    "data_new.loc[(data_new['ratings'] > 3) & (data_new['polarity'] > 0.1)]"
   ]
  },
  {
   "cell_type": "code",
   "execution_count": 81,
   "metadata": {},
   "outputs": [],
   "source": [
    "data_new[\"Review_category\"] = None"
   ]
  },
  {
   "cell_type": "code",
   "execution_count": 82,
   "metadata": {},
   "outputs": [
    {
     "data": {
      "text/html": [
       "<div>\n",
       "<style scoped>\n",
       "    .dataframe tbody tr th:only-of-type {\n",
       "        vertical-align: middle;\n",
       "    }\n",
       "\n",
       "    .dataframe tbody tr th {\n",
       "        vertical-align: top;\n",
       "    }\n",
       "\n",
       "    .dataframe thead th {\n",
       "        text-align: right;\n",
       "    }\n",
       "</style>\n",
       "<table border=\"1\" class=\"dataframe\">\n",
       "  <thead>\n",
       "    <tr style=\"text-align: right;\">\n",
       "      <th></th>\n",
       "      <th>name</th>\n",
       "      <th>ratings</th>\n",
       "      <th>reviews</th>\n",
       "      <th>Mean Rating</th>\n",
       "      <th>length</th>\n",
       "      <th>word_count</th>\n",
       "      <th>polarity</th>\n",
       "      <th>Review_category</th>\n",
       "    </tr>\n",
       "  </thead>\n",
       "  <tbody>\n",
       "    <tr>\n",
       "      <th>0</th>\n",
       "      <td>Corner Huts</td>\n",
       "      <td>3.8</td>\n",
       "      <td>rated 40 ratedn place dinner husband sure expl...</td>\n",
       "      <td>3.58</td>\n",
       "      <td>423</td>\n",
       "      <td>61</td>\n",
       "      <td>0.216667</td>\n",
       "      <td>None</td>\n",
       "    </tr>\n",
       "    <tr>\n",
       "      <th>1</th>\n",
       "      <td>Oregano Soul Food</td>\n",
       "      <td>4.1</td>\n",
       "      <td>rated 50 ratedn loved place awesome food great...</td>\n",
       "      <td>3.97</td>\n",
       "      <td>1609</td>\n",
       "      <td>229</td>\n",
       "      <td>0.308167</td>\n",
       "      <td>None</td>\n",
       "    </tr>\n",
       "    <tr>\n",
       "      <th>2</th>\n",
       "      <td>Pepperwood</td>\n",
       "      <td>3.7</td>\n",
       "      <td>rated 30 ratedn got delivery place food good s...</td>\n",
       "      <td>3.52</td>\n",
       "      <td>1975</td>\n",
       "      <td>198</td>\n",
       "      <td>0.144174</td>\n",
       "      <td>None</td>\n",
       "    </tr>\n",
       "    <tr>\n",
       "      <th>3</th>\n",
       "      <td>Dawat Midnight Express</td>\n",
       "      <td>3.1</td>\n",
       "      <td>rated 40 ratedn loved chicken fried rice nothi...</td>\n",
       "      <td>2.68</td>\n",
       "      <td>181</td>\n",
       "      <td>27</td>\n",
       "      <td>-0.100000</td>\n",
       "      <td>None</td>\n",
       "    </tr>\n",
       "    <tr>\n",
       "      <th>4</th>\n",
       "      <td>RockSalt</td>\n",
       "      <td>4.4</td>\n",
       "      <td>rated 30 ratedn visited place friends tried 3 ...</td>\n",
       "      <td>4.35</td>\n",
       "      <td>19476</td>\n",
       "      <td>2070</td>\n",
       "      <td>0.311511</td>\n",
       "      <td>None</td>\n",
       "    </tr>\n",
       "  </tbody>\n",
       "</table>\n",
       "</div>"
      ],
      "text/plain": [
       "                     name  ratings  \\\n",
       "0             Corner Huts      3.8   \n",
       "1       Oregano Soul Food      4.1   \n",
       "2              Pepperwood      3.7   \n",
       "3  Dawat Midnight Express      3.1   \n",
       "4                RockSalt      4.4   \n",
       "\n",
       "                                             reviews  Mean Rating  length  \\\n",
       "0  rated 40 ratedn place dinner husband sure expl...         3.58     423   \n",
       "1  rated 50 ratedn loved place awesome food great...         3.97    1609   \n",
       "2  rated 30 ratedn got delivery place food good s...         3.52    1975   \n",
       "3  rated 40 ratedn loved chicken fried rice nothi...         2.68     181   \n",
       "4  rated 30 ratedn visited place friends tried 3 ...         4.35   19476   \n",
       "\n",
       "   word_count  polarity Review_category  \n",
       "0          61  0.216667            None  \n",
       "1         229  0.308167            None  \n",
       "2         198  0.144174            None  \n",
       "3          27 -0.100000            None  \n",
       "4        2070  0.311511            None  "
      ]
     },
     "execution_count": 82,
     "metadata": {},
     "output_type": "execute_result"
    }
   ],
   "source": [
    "data_new.head()"
   ]
  },
  {
   "cell_type": "code",
   "execution_count": 83,
   "metadata": {},
   "outputs": [],
   "source": [
    "data_new[\"Review_category\"]  = np.where((data_new['ratings'] > 3) & (data_new['polarity'] >= 0.1) , 'Good', 'Bad')"
   ]
  },
  {
   "cell_type": "code",
   "execution_count": 84,
   "metadata": {},
   "outputs": [
    {
     "data": {
      "text/html": [
       "<div>\n",
       "<style scoped>\n",
       "    .dataframe tbody tr th:only-of-type {\n",
       "        vertical-align: middle;\n",
       "    }\n",
       "\n",
       "    .dataframe tbody tr th {\n",
       "        vertical-align: top;\n",
       "    }\n",
       "\n",
       "    .dataframe thead th {\n",
       "        text-align: right;\n",
       "    }\n",
       "</style>\n",
       "<table border=\"1\" class=\"dataframe\">\n",
       "  <thead>\n",
       "    <tr style=\"text-align: right;\">\n",
       "      <th></th>\n",
       "      <th>name</th>\n",
       "      <th>ratings</th>\n",
       "      <th>reviews</th>\n",
       "      <th>Mean Rating</th>\n",
       "      <th>length</th>\n",
       "      <th>word_count</th>\n",
       "      <th>polarity</th>\n",
       "      <th>Review_category</th>\n",
       "    </tr>\n",
       "  </thead>\n",
       "  <tbody>\n",
       "    <tr>\n",
       "      <th>0</th>\n",
       "      <td>Corner Huts</td>\n",
       "      <td>3.8</td>\n",
       "      <td>rated 40 ratedn place dinner husband sure expl...</td>\n",
       "      <td>3.58</td>\n",
       "      <td>423</td>\n",
       "      <td>61</td>\n",
       "      <td>0.216667</td>\n",
       "      <td>Good</td>\n",
       "    </tr>\n",
       "    <tr>\n",
       "      <th>1</th>\n",
       "      <td>Oregano Soul Food</td>\n",
       "      <td>4.1</td>\n",
       "      <td>rated 50 ratedn loved place awesome food great...</td>\n",
       "      <td>3.97</td>\n",
       "      <td>1609</td>\n",
       "      <td>229</td>\n",
       "      <td>0.308167</td>\n",
       "      <td>Good</td>\n",
       "    </tr>\n",
       "    <tr>\n",
       "      <th>2</th>\n",
       "      <td>Pepperwood</td>\n",
       "      <td>3.7</td>\n",
       "      <td>rated 30 ratedn got delivery place food good s...</td>\n",
       "      <td>3.52</td>\n",
       "      <td>1975</td>\n",
       "      <td>198</td>\n",
       "      <td>0.144174</td>\n",
       "      <td>Good</td>\n",
       "    </tr>\n",
       "    <tr>\n",
       "      <th>3</th>\n",
       "      <td>Dawat Midnight Express</td>\n",
       "      <td>3.1</td>\n",
       "      <td>rated 40 ratedn loved chicken fried rice nothi...</td>\n",
       "      <td>2.68</td>\n",
       "      <td>181</td>\n",
       "      <td>27</td>\n",
       "      <td>-0.100000</td>\n",
       "      <td>Bad</td>\n",
       "    </tr>\n",
       "    <tr>\n",
       "      <th>4</th>\n",
       "      <td>RockSalt</td>\n",
       "      <td>4.4</td>\n",
       "      <td>rated 30 ratedn visited place friends tried 3 ...</td>\n",
       "      <td>4.35</td>\n",
       "      <td>19476</td>\n",
       "      <td>2070</td>\n",
       "      <td>0.311511</td>\n",
       "      <td>Good</td>\n",
       "    </tr>\n",
       "  </tbody>\n",
       "</table>\n",
       "</div>"
      ],
      "text/plain": [
       "                     name  ratings  \\\n",
       "0             Corner Huts      3.8   \n",
       "1       Oregano Soul Food      4.1   \n",
       "2              Pepperwood      3.7   \n",
       "3  Dawat Midnight Express      3.1   \n",
       "4                RockSalt      4.4   \n",
       "\n",
       "                                             reviews  Mean Rating  length  \\\n",
       "0  rated 40 ratedn place dinner husband sure expl...         3.58     423   \n",
       "1  rated 50 ratedn loved place awesome food great...         3.97    1609   \n",
       "2  rated 30 ratedn got delivery place food good s...         3.52    1975   \n",
       "3  rated 40 ratedn loved chicken fried rice nothi...         2.68     181   \n",
       "4  rated 30 ratedn visited place friends tried 3 ...         4.35   19476   \n",
       "\n",
       "   word_count  polarity Review_category  \n",
       "0          61  0.216667            Good  \n",
       "1         229  0.308167            Good  \n",
       "2         198  0.144174            Good  \n",
       "3          27 -0.100000             Bad  \n",
       "4        2070  0.311511            Good  "
      ]
     },
     "execution_count": 84,
     "metadata": {},
     "output_type": "execute_result"
    }
   ],
   "source": [
    "data_new.head()"
   ]
  },
  {
   "cell_type": "code",
   "execution_count": 85,
   "metadata": {},
   "outputs": [
    {
     "data": {
      "text/plain": [
       "array(['Good', 'Bad'], dtype=object)"
      ]
     },
     "execution_count": 85,
     "metadata": {},
     "output_type": "execute_result"
    }
   ],
   "source": [
    "data_new['Review_category'].unique()"
   ]
  },
  {
   "cell_type": "code",
   "execution_count": 86,
   "metadata": {},
   "outputs": [
    {
     "data": {
      "text/plain": [
       "Good    14265\n",
       "Bad      4298\n",
       "Name: Review_category, dtype: int64"
      ]
     },
     "execution_count": 86,
     "metadata": {},
     "output_type": "execute_result"
    }
   ],
   "source": [
    "data_new['Review_category'].value_counts()"
   ]
  },
  {
   "cell_type": "markdown",
   "metadata": {},
   "source": [
    "## Building Bag of Words"
   ]
  },
  {
   "cell_type": "code",
   "execution_count": 87,
   "metadata": {},
   "outputs": [],
   "source": [
    "from sklearn.feature_extraction.text import CountVectorizer"
   ]
  },
  {
   "cell_type": "code",
   "execution_count": 88,
   "metadata": {},
   "outputs": [],
   "source": [
    "cv = CountVectorizer(max_features=5000)"
   ]
  },
  {
   "cell_type": "code",
   "execution_count": 89,
   "metadata": {},
   "outputs": [
    {
     "data": {
      "text/plain": [
       "{'analyzer': 'word',\n",
       " 'binary': False,\n",
       " 'decode_error': 'strict',\n",
       " 'dtype': numpy.int64,\n",
       " 'encoding': 'utf-8',\n",
       " 'input': 'content',\n",
       " 'lowercase': True,\n",
       " 'max_df': 1.0,\n",
       " 'max_features': 5000,\n",
       " 'min_df': 1,\n",
       " 'ngram_range': (1, 1),\n",
       " 'preprocessor': None,\n",
       " 'stop_words': None,\n",
       " 'strip_accents': None,\n",
       " 'token_pattern': '(?u)\\\\b\\\\w\\\\w+\\\\b',\n",
       " 'tokenizer': None,\n",
       " 'vocabulary': None}"
      ]
     },
     "execution_count": 89,
     "metadata": {},
     "output_type": "execute_result"
    }
   ],
   "source": [
    "cv.get_params()"
   ]
  },
  {
   "cell_type": "code",
   "execution_count": 90,
   "metadata": {},
   "outputs": [],
   "source": [
    "# Indepedent variables"
   ]
  },
  {
   "cell_type": "code",
   "execution_count": 91,
   "metadata": {},
   "outputs": [],
   "source": [
    "X = cv.fit_transform(data_new[\"reviews\"]).toarray()"
   ]
  },
  {
   "cell_type": "code",
   "execution_count": 92,
   "metadata": {},
   "outputs": [
    {
     "data": {
      "text/plain": [
       "(18563, 5000)"
      ]
     },
     "execution_count": 92,
     "metadata": {},
     "output_type": "execute_result"
    }
   ],
   "source": [
    "X.shape"
   ]
  },
  {
   "cell_type": "code",
   "execution_count": 93,
   "metadata": {},
   "outputs": [
    {
     "data": {
      "text/plain": [
       "array([[0, 0, 0, ..., 0, 0, 0],\n",
       "       [0, 0, 0, ..., 0, 0, 0],\n",
       "       [0, 0, 0, ..., 0, 0, 0],\n",
       "       ...,\n",
       "       [0, 0, 0, ..., 0, 0, 0],\n",
       "       [0, 0, 0, ..., 0, 0, 0],\n",
       "       [0, 0, 0, ..., 0, 0, 0]], dtype=int64)"
      ]
     },
     "execution_count": 93,
     "metadata": {},
     "output_type": "execute_result"
    }
   ],
   "source": [
    "X[0:10]"
   ]
  },
  {
   "cell_type": "code",
   "execution_count": 94,
   "metadata": {},
   "outputs": [],
   "source": [
    "# Dependent variable"
   ]
  },
  {
   "cell_type": "code",
   "execution_count": 95,
   "metadata": {},
   "outputs": [],
   "source": [
    "class_values = pd.get_dummies(data_new['Review_category'])\n",
    "class_values = class_values.drop(columns=\"Bad\")\n",
    "class_values = class_values.rename(columns={\"Bad\":\"Class\"})"
   ]
  },
  {
   "cell_type": "code",
   "execution_count": 96,
   "metadata": {},
   "outputs": [],
   "source": [
    "y = class_values.values.ravel()"
   ]
  },
  {
   "cell_type": "code",
   "execution_count": 97,
   "metadata": {},
   "outputs": [
    {
     "data": {
      "text/plain": [
       "array([1, 1, 1, ..., 0, 1, 1], dtype=uint8)"
      ]
     },
     "execution_count": 97,
     "metadata": {},
     "output_type": "execute_result"
    }
   ],
   "source": [
    "y"
   ]
  },
  {
   "cell_type": "code",
   "execution_count": 98,
   "metadata": {},
   "outputs": [],
   "source": [
    "# Splitting the train test data"
   ]
  },
  {
   "cell_type": "code",
   "execution_count": 99,
   "metadata": {},
   "outputs": [],
   "source": [
    "from sklearn.model_selection import train_test_split"
   ]
  },
  {
   "cell_type": "code",
   "execution_count": 100,
   "metadata": {},
   "outputs": [],
   "source": [
    "X_train, X_test, y_train, y_test = train_test_split(X,y, test_size=0.2, random_state=0)"
   ]
  },
  {
   "cell_type": "code",
   "execution_count": 101,
   "metadata": {},
   "outputs": [
    {
     "name": "stdout",
     "output_type": "stream",
     "text": [
      "(14850, 5000) \n",
      " (3713, 5000)\n"
     ]
    }
   ],
   "source": [
    "print(X_train.shape,'\\n',\n",
    "     X_test.shape)"
   ]
  },
  {
   "cell_type": "code",
   "execution_count": 102,
   "metadata": {},
   "outputs": [],
   "source": [
    "# Bag of words"
   ]
  },
  {
   "cell_type": "code",
   "execution_count": 103,
   "metadata": {},
   "outputs": [],
   "source": [
    "count_df = pd.DataFrame(X_train, columns=cv.get_feature_names())"
   ]
  },
  {
   "cell_type": "code",
   "execution_count": 104,
   "metadata": {},
   "outputs": [
    {
     "data": {
      "text/html": [
       "<div>\n",
       "<style scoped>\n",
       "    .dataframe tbody tr th:only-of-type {\n",
       "        vertical-align: middle;\n",
       "    }\n",
       "\n",
       "    .dataframe tbody tr th {\n",
       "        vertical-align: top;\n",
       "    }\n",
       "\n",
       "    .dataframe thead th {\n",
       "        text-align: right;\n",
       "    }\n",
       "</style>\n",
       "<table border=\"1\" class=\"dataframe\">\n",
       "  <thead>\n",
       "    <tr style=\"text-align: right;\">\n",
       "      <th></th>\n",
       "      <th>05</th>\n",
       "      <th>10</th>\n",
       "      <th>100</th>\n",
       "      <th>1000</th>\n",
       "      <th>100ft</th>\n",
       "      <th>1010</th>\n",
       "      <th>1015</th>\n",
       "      <th>1030</th>\n",
       "      <th>10mins</th>\n",
       "      <th>10pm</th>\n",
       "      <th>...</th>\n",
       "      <th>â²ã</th>\n",
       "      <th>â³ã</th>\n",
       "      <th>âµã</th>\n",
       "      <th>â¹</th>\n",
       "      <th>â¹ã</th>\n",
       "      <th>âºã</th>\n",
       "      <th>â¼</th>\n",
       "      <th>â¼ã</th>\n",
       "      <th>â½ã</th>\n",
       "      <th>â¾ã</th>\n",
       "    </tr>\n",
       "  </thead>\n",
       "  <tbody>\n",
       "    <tr>\n",
       "      <th>0</th>\n",
       "      <td>0</td>\n",
       "      <td>8</td>\n",
       "      <td>0</td>\n",
       "      <td>0</td>\n",
       "      <td>0</td>\n",
       "      <td>0</td>\n",
       "      <td>0</td>\n",
       "      <td>0</td>\n",
       "      <td>0</td>\n",
       "      <td>0</td>\n",
       "      <td>...</td>\n",
       "      <td>0</td>\n",
       "      <td>0</td>\n",
       "      <td>0</td>\n",
       "      <td>0</td>\n",
       "      <td>0</td>\n",
       "      <td>0</td>\n",
       "      <td>0</td>\n",
       "      <td>0</td>\n",
       "      <td>0</td>\n",
       "      <td>0</td>\n",
       "    </tr>\n",
       "    <tr>\n",
       "      <th>1</th>\n",
       "      <td>0</td>\n",
       "      <td>0</td>\n",
       "      <td>0</td>\n",
       "      <td>0</td>\n",
       "      <td>0</td>\n",
       "      <td>0</td>\n",
       "      <td>0</td>\n",
       "      <td>0</td>\n",
       "      <td>0</td>\n",
       "      <td>0</td>\n",
       "      <td>...</td>\n",
       "      <td>0</td>\n",
       "      <td>0</td>\n",
       "      <td>0</td>\n",
       "      <td>0</td>\n",
       "      <td>0</td>\n",
       "      <td>0</td>\n",
       "      <td>0</td>\n",
       "      <td>0</td>\n",
       "      <td>0</td>\n",
       "      <td>0</td>\n",
       "    </tr>\n",
       "    <tr>\n",
       "      <th>2</th>\n",
       "      <td>0</td>\n",
       "      <td>1</td>\n",
       "      <td>0</td>\n",
       "      <td>0</td>\n",
       "      <td>0</td>\n",
       "      <td>0</td>\n",
       "      <td>0</td>\n",
       "      <td>0</td>\n",
       "      <td>0</td>\n",
       "      <td>0</td>\n",
       "      <td>...</td>\n",
       "      <td>0</td>\n",
       "      <td>0</td>\n",
       "      <td>0</td>\n",
       "      <td>0</td>\n",
       "      <td>0</td>\n",
       "      <td>0</td>\n",
       "      <td>0</td>\n",
       "      <td>0</td>\n",
       "      <td>0</td>\n",
       "      <td>0</td>\n",
       "    </tr>\n",
       "    <tr>\n",
       "      <th>3</th>\n",
       "      <td>0</td>\n",
       "      <td>0</td>\n",
       "      <td>0</td>\n",
       "      <td>0</td>\n",
       "      <td>0</td>\n",
       "      <td>0</td>\n",
       "      <td>0</td>\n",
       "      <td>0</td>\n",
       "      <td>0</td>\n",
       "      <td>0</td>\n",
       "      <td>...</td>\n",
       "      <td>0</td>\n",
       "      <td>0</td>\n",
       "      <td>0</td>\n",
       "      <td>0</td>\n",
       "      <td>0</td>\n",
       "      <td>0</td>\n",
       "      <td>0</td>\n",
       "      <td>0</td>\n",
       "      <td>0</td>\n",
       "      <td>0</td>\n",
       "    </tr>\n",
       "    <tr>\n",
       "      <th>4</th>\n",
       "      <td>0</td>\n",
       "      <td>2</td>\n",
       "      <td>0</td>\n",
       "      <td>0</td>\n",
       "      <td>0</td>\n",
       "      <td>0</td>\n",
       "      <td>0</td>\n",
       "      <td>0</td>\n",
       "      <td>0</td>\n",
       "      <td>0</td>\n",
       "      <td>...</td>\n",
       "      <td>0</td>\n",
       "      <td>0</td>\n",
       "      <td>0</td>\n",
       "      <td>0</td>\n",
       "      <td>0</td>\n",
       "      <td>0</td>\n",
       "      <td>0</td>\n",
       "      <td>0</td>\n",
       "      <td>0</td>\n",
       "      <td>0</td>\n",
       "    </tr>\n",
       "  </tbody>\n",
       "</table>\n",
       "<p>5 rows × 5000 columns</p>\n",
       "</div>"
      ],
      "text/plain": [
       "   05  10  100  1000  100ft  1010  1015  1030  10mins  10pm  ...  â²ã  â³ã  \\\n",
       "0   0   8    0     0      0     0     0     0       0     0  ...    0    0   \n",
       "1   0   0    0     0      0     0     0     0       0     0  ...    0    0   \n",
       "2   0   1    0     0      0     0     0     0       0     0  ...    0    0   \n",
       "3   0   0    0     0      0     0     0     0       0     0  ...    0    0   \n",
       "4   0   2    0     0      0     0     0     0       0     0  ...    0    0   \n",
       "\n",
       "   âµã  â¹  â¹ã  âºã  â¼  â¼ã  â½ã  â¾ã  \n",
       "0    0   0    0    0   0    0    0    0  \n",
       "1    0   0    0    0   0    0    0    0  \n",
       "2    0   0    0    0   0    0    0    0  \n",
       "3    0   0    0    0   0    0    0    0  \n",
       "4    0   0    0    0   0    0    0    0  \n",
       "\n",
       "[5 rows x 5000 columns]"
      ]
     },
     "execution_count": 104,
     "metadata": {},
     "output_type": "execute_result"
    }
   ],
   "source": [
    "count_df.head()"
   ]
  },
  {
   "cell_type": "markdown",
   "metadata": {},
   "source": [
    "## Model Building"
   ]
  },
  {
   "cell_type": "markdown",
   "metadata": {},
   "source": [
    "### Naive Bayes Model"
   ]
  },
  {
   "cell_type": "code",
   "execution_count": 105,
   "metadata": {},
   "outputs": [],
   "source": [
    "from sklearn.naive_bayes import MultinomialNB"
   ]
  },
  {
   "cell_type": "code",
   "execution_count": 106,
   "metadata": {},
   "outputs": [],
   "source": [
    "nb_classifier = MultinomialNB()"
   ]
  },
  {
   "cell_type": "code",
   "execution_count": 107,
   "metadata": {},
   "outputs": [
    {
     "data": {
      "text/plain": [
       "MultinomialNB(alpha=1.0, class_prior=None, fit_prior=True)"
      ]
     },
     "execution_count": 107,
     "metadata": {},
     "output_type": "execute_result"
    }
   ],
   "source": [
    "nb_classifier.fit(X_train, y_train)"
   ]
  },
  {
   "cell_type": "code",
   "execution_count": 108,
   "metadata": {},
   "outputs": [],
   "source": [
    "# Predicting the values"
   ]
  },
  {
   "cell_type": "code",
   "execution_count": 109,
   "metadata": {},
   "outputs": [],
   "source": [
    "y_pred_train = nb_classifier.predict(X_train)\n",
    "y_pred_test = nb_classifier.predict(X_test)"
   ]
  },
  {
   "cell_type": "code",
   "execution_count": 110,
   "metadata": {},
   "outputs": [],
   "source": [
    "# Confusion matrix"
   ]
  },
  {
   "cell_type": "code",
   "execution_count": 111,
   "metadata": {},
   "outputs": [],
   "source": [
    "from sklearn.metrics import confusion_matrix\n",
    "from sklearn.metrics import accuracy_score, precision_score, recall_score"
   ]
  },
  {
   "cell_type": "code",
   "execution_count": 112,
   "metadata": {},
   "outputs": [
    {
     "data": {
      "text/plain": [
       "array([[2436, 1021],\n",
       "       [4170, 7223]], dtype=int64)"
      ]
     },
     "execution_count": 112,
     "metadata": {},
     "output_type": "execute_result"
    }
   ],
   "source": [
    "confusion_matrix(y_train, y_pred_train)"
   ]
  },
  {
   "cell_type": "code",
   "execution_count": 113,
   "metadata": {},
   "outputs": [
    {
     "data": {
      "text/plain": [
       "array([[ 577,  264],\n",
       "       [1025, 1847]], dtype=int64)"
      ]
     },
     "execution_count": 113,
     "metadata": {},
     "output_type": "execute_result"
    }
   ],
   "source": [
    "confusion_matrix(y_test, y_pred_test)"
   ]
  },
  {
   "cell_type": "code",
   "execution_count": 114,
   "metadata": {},
   "outputs": [],
   "source": [
    "# Checking accuracy, precision and recall"
   ]
  },
  {
   "cell_type": "code",
   "execution_count": 115,
   "metadata": {},
   "outputs": [],
   "source": [
    "# For training"
   ]
  },
  {
   "cell_type": "code",
   "execution_count": 116,
   "metadata": {},
   "outputs": [],
   "source": [
    "accuracy = accuracy_score(y_train, y_pred_train)\n",
    "precision = precision_score(y_train, y_pred_train)\n",
    "recall = recall_score(y_train, y_pred_train)"
   ]
  },
  {
   "cell_type": "code",
   "execution_count": 117,
   "metadata": {},
   "outputs": [
    {
     "name": "stdout",
     "output_type": "stream",
     "text": [
      "Accuracy for train:  0.6504377104377105\n",
      "Precision for train:  0.876152353226589\n",
      "Recall for train:  0.6339857807425612\n"
     ]
    }
   ],
   "source": [
    "print(\"Accuracy for train: \", accuracy)\n",
    "print(\"Precision for train: \", precision)\n",
    "print(\"Recall for train: \", recall)"
   ]
  },
  {
   "cell_type": "code",
   "execution_count": 118,
   "metadata": {},
   "outputs": [],
   "source": [
    "# For testing"
   ]
  },
  {
   "cell_type": "code",
   "execution_count": 119,
   "metadata": {},
   "outputs": [],
   "source": [
    "accuracy = accuracy_score(y_test, y_pred_test)\n",
    "precision = precision_score(y_test, y_pred_test)\n",
    "recall = recall_score(y_test, y_pred_test)"
   ]
  },
  {
   "cell_type": "code",
   "execution_count": 120,
   "metadata": {},
   "outputs": [
    {
     "name": "stdout",
     "output_type": "stream",
     "text": [
      "Accuracy for test:  0.6528413681659035\n",
      "Precision for test:  0.8749407863571766\n",
      "Recall for test:  0.6431058495821727\n"
     ]
    }
   ],
   "source": [
    "print(\"Accuracy for test: \", accuracy)\n",
    "print(\"Precision for test: \", precision)\n",
    "print(\"Recall for test: \", recall)"
   ]
  },
  {
   "cell_type": "markdown",
   "metadata": {},
   "source": [
    "### Using Bernoullis NB"
   ]
  },
  {
   "cell_type": "code",
   "execution_count": 121,
   "metadata": {},
   "outputs": [],
   "source": [
    "from sklearn.naive_bayes import BernoulliNB"
   ]
  },
  {
   "cell_type": "code",
   "execution_count": 122,
   "metadata": {},
   "outputs": [],
   "source": [
    "brnb = BernoulliNB()"
   ]
  },
  {
   "cell_type": "code",
   "execution_count": 124,
   "metadata": {},
   "outputs": [
    {
     "data": {
      "text/plain": [
       "BernoulliNB(alpha=1.0, binarize=0.0, class_prior=None, fit_prior=True)"
      ]
     },
     "execution_count": 124,
     "metadata": {},
     "output_type": "execute_result"
    }
   ],
   "source": [
    "brnb.fit(X_train,y_train)"
   ]
  },
  {
   "cell_type": "code",
   "execution_count": 125,
   "metadata": {},
   "outputs": [],
   "source": [
    "# Predicting the target values"
   ]
  },
  {
   "cell_type": "code",
   "execution_count": 126,
   "metadata": {},
   "outputs": [],
   "source": [
    "pred_train_brnb = brnb.predict(X_train)\n",
    "pred_brnb = brnb.predict(X_test)"
   ]
  },
  {
   "cell_type": "code",
   "execution_count": 127,
   "metadata": {},
   "outputs": [],
   "source": [
    "# Probability values"
   ]
  },
  {
   "cell_type": "code",
   "execution_count": 128,
   "metadata": {},
   "outputs": [
    {
     "data": {
      "text/plain": [
       "array([[1.00000000e+000, 3.72372629e-051],\n",
       "       [1.00000000e+000, 8.15301936e-047],\n",
       "       [1.00000000e+000, 1.60107179e-043],\n",
       "       ...,\n",
       "       [1.56199290e-131, 1.00000000e+000],\n",
       "       [6.69967431e-181, 1.00000000e+000],\n",
       "       [1.00000000e+000, 3.92760933e-034]])"
      ]
     },
     "execution_count": 128,
     "metadata": {},
     "output_type": "execute_result"
    }
   ],
   "source": [
    "brnb.predict_proba(X_test)"
   ]
  },
  {
   "cell_type": "code",
   "execution_count": 129,
   "metadata": {},
   "outputs": [],
   "source": [
    "# Confusion matrix"
   ]
  },
  {
   "cell_type": "code",
   "execution_count": 130,
   "metadata": {},
   "outputs": [
    {
     "data": {
      "text/plain": [
       "array([[2904,  553],\n",
       "       [5905, 5488]], dtype=int64)"
      ]
     },
     "execution_count": 130,
     "metadata": {},
     "output_type": "execute_result"
    }
   ],
   "source": [
    "confusion_matrix(y_train,pred_train_brnb)"
   ]
  },
  {
   "cell_type": "code",
   "execution_count": 131,
   "metadata": {},
   "outputs": [
    {
     "data": {
      "text/plain": [
       "array([[ 697,  144],\n",
       "       [1480, 1392]], dtype=int64)"
      ]
     },
     "execution_count": 131,
     "metadata": {},
     "output_type": "execute_result"
    }
   ],
   "source": [
    "confusion_matrix(y_test,pred_brnb)"
   ]
  },
  {
   "cell_type": "code",
   "execution_count": 132,
   "metadata": {},
   "outputs": [],
   "source": [
    "# Accuracy"
   ]
  },
  {
   "cell_type": "code",
   "execution_count": 133,
   "metadata": {},
   "outputs": [
    {
     "data": {
      "text/plain": [
       "0.5651178451178451"
      ]
     },
     "execution_count": 133,
     "metadata": {},
     "output_type": "execute_result"
    }
   ],
   "source": [
    "train_accuracy = accuracy_score(y_train,pred_train_brnb)\n",
    "train_accuracy"
   ]
  },
  {
   "cell_type": "code",
   "execution_count": 134,
   "metadata": {},
   "outputs": [
    {
     "data": {
      "text/plain": [
       "0.562617829248586"
      ]
     },
     "execution_count": 134,
     "metadata": {},
     "output_type": "execute_result"
    }
   ],
   "source": [
    "test_accuracy = accuracy_score(y_test,pred_brnb)\n",
    "test_accuracy"
   ]
  },
  {
   "cell_type": "markdown",
   "metadata": {},
   "source": [
    "### Hyperparameter tuning of Naive Bayes model"
   ]
  },
  {
   "cell_type": "code",
   "execution_count": 135,
   "metadata": {},
   "outputs": [],
   "source": [
    "# Tuning the parameter 'alpha' to improve the accuracy"
   ]
  },
  {
   "cell_type": "code",
   "execution_count": 136,
   "metadata": {},
   "outputs": [],
   "source": [
    "classifier=MultinomialNB(alpha=0.1)"
   ]
  },
  {
   "cell_type": "code",
   "execution_count": 137,
   "metadata": {},
   "outputs": [
    {
     "name": "stdout",
     "output_type": "stream",
     "text": [
      "Alpha: 0.1, Score : 0.6566119041206572\n",
      "Alpha: 0.2, Score : 0.656342580123889\n",
      "Alpha: 0.3, Score : 0.6547266361432804\n",
      "Alpha: 0.4, Score : 0.6544573121465123\n",
      "Alpha: 0.5, Score : 0.6544573121465123\n",
      "Alpha: 0.6, Score : 0.6536493401562079\n",
      "Alpha: 0.7, Score : 0.6533800161594399\n",
      "Alpha: 0.8, Score : 0.6533800161594399\n",
      "Alpha: 0.9, Score : 0.6531106921626717\n",
      "Alpha: 1.0, Score : 0.6528413681659035\n"
     ]
    }
   ],
   "source": [
    "previous_score=0\n",
    "for alpha in np.arange(0.1,1.1,0.1):\n",
    "    sub_classifier=MultinomialNB(alpha=alpha)\n",
    "    sub_classifier.fit(X_train,y_train)\n",
    "    y_pred=sub_classifier.predict(X_test)\n",
    "    score = accuracy_score(y_test, y_pred)\n",
    "    if score>previous_score:\n",
    "        classifier=sub_classifier\n",
    "    print(\"Alpha: {}, Score : {}\".format(round(alpha,1),score))"
   ]
  },
  {
   "cell_type": "markdown",
   "metadata": {},
   "source": [
    "#### Highest accuracy is obtanined for the value alpha =0.1"
   ]
  },
  {
   "cell_type": "markdown",
   "metadata": {},
   "source": [
    "### Logistic Regression"
   ]
  },
  {
   "cell_type": "code",
   "execution_count": 138,
   "metadata": {},
   "outputs": [],
   "source": [
    "from sklearn.linear_model import LogisticRegression"
   ]
  },
  {
   "cell_type": "code",
   "execution_count": 139,
   "metadata": {},
   "outputs": [],
   "source": [
    "lr_classifier = LogisticRegression(max_iter=500, random_state=0)"
   ]
  },
  {
   "cell_type": "code",
   "execution_count": 140,
   "metadata": {},
   "outputs": [
    {
     "data": {
      "text/plain": [
       "LogisticRegression(C=1.0, class_weight=None, dual=False, fit_intercept=True,\n",
       "                   intercept_scaling=1, l1_ratio=None, max_iter=500,\n",
       "                   multi_class='auto', n_jobs=None, penalty='l2',\n",
       "                   random_state=0, solver='lbfgs', tol=0.0001, verbose=0,\n",
       "                   warm_start=False)"
      ]
     },
     "execution_count": 140,
     "metadata": {},
     "output_type": "execute_result"
    }
   ],
   "source": [
    "lr_classifier.fit(X_train, y_train)"
   ]
  },
  {
   "cell_type": "code",
   "execution_count": 141,
   "metadata": {},
   "outputs": [],
   "source": [
    "# Predicting the values"
   ]
  },
  {
   "cell_type": "code",
   "execution_count": 142,
   "metadata": {},
   "outputs": [],
   "source": [
    "y_pred_train = lr_classifier.predict(X_train)"
   ]
  },
  {
   "cell_type": "code",
   "execution_count": 143,
   "metadata": {},
   "outputs": [],
   "source": [
    "y_pred_test = lr_classifier.predict(X_test)"
   ]
  },
  {
   "cell_type": "code",
   "execution_count": 144,
   "metadata": {},
   "outputs": [],
   "source": [
    "# Confusion matrix"
   ]
  },
  {
   "cell_type": "code",
   "execution_count": 145,
   "metadata": {},
   "outputs": [
    {
     "data": {
      "text/plain": [
       "array([[ 3338,   119],\n",
       "       [   85, 11308]], dtype=int64)"
      ]
     },
     "execution_count": 145,
     "metadata": {},
     "output_type": "execute_result"
    }
   ],
   "source": [
    "confusion_matrix(y_train, y_pred_train)"
   ]
  },
  {
   "cell_type": "code",
   "execution_count": 146,
   "metadata": {},
   "outputs": [
    {
     "data": {
      "text/plain": [
       "array([[ 761,   80],\n",
       "       [  98, 2774]], dtype=int64)"
      ]
     },
     "execution_count": 146,
     "metadata": {},
     "output_type": "execute_result"
    }
   ],
   "source": [
    "confusion_matrix(y_test, y_pred_test)"
   ]
  },
  {
   "cell_type": "code",
   "execution_count": 147,
   "metadata": {},
   "outputs": [],
   "source": [
    "# Accuracy score, precision and recall"
   ]
  },
  {
   "cell_type": "code",
   "execution_count": 148,
   "metadata": {},
   "outputs": [],
   "source": [
    "# For training"
   ]
  },
  {
   "cell_type": "code",
   "execution_count": 149,
   "metadata": {},
   "outputs": [],
   "source": [
    "Accuracy = accuracy_score(y_train, y_pred_train)\n",
    "Precision = precision_score(y_train, y_pred_train)\n",
    "Recall = recall_score(y_train, y_pred_train)"
   ]
  },
  {
   "cell_type": "code",
   "execution_count": 150,
   "metadata": {},
   "outputs": [
    {
     "name": "stdout",
     "output_type": "stream",
     "text": [
      "Accuracy for train:  0.9862626262626263\n",
      "Precision for train:  0.9895860680843616\n",
      "Recall for train:  0.9925392785043448\n"
     ]
    }
   ],
   "source": [
    "print(\"Accuracy for train: \", Accuracy)\n",
    "print(\"Precision for train: \", Precision)\n",
    "print(\"Recall for train: \", Recall)"
   ]
  },
  {
   "cell_type": "code",
   "execution_count": 151,
   "metadata": {},
   "outputs": [],
   "source": [
    "# For testing"
   ]
  },
  {
   "cell_type": "code",
   "execution_count": 152,
   "metadata": {},
   "outputs": [],
   "source": [
    "Accuracy = accuracy_score(y_test, y_pred_test)\n",
    "Precision = precision_score(y_test, y_pred_test)\n",
    "Recall = recall_score(y_test, y_pred_test)"
   ]
  },
  {
   "cell_type": "code",
   "execution_count": 153,
   "metadata": {},
   "outputs": [
    {
     "name": "stdout",
     "output_type": "stream",
     "text": [
      "Accuracy for test:  0.952060328575276\n",
      "Precision for test:  0.9719691660826909\n",
      "Recall for test:  0.9658774373259053\n"
     ]
    }
   ],
   "source": [
    "print(\"Accuracy for test: \", Accuracy)\n",
    "print(\"Precision for test: \", Precision)\n",
    "print(\"Recall for test: \", Recall)"
   ]
  },
  {
   "cell_type": "markdown",
   "metadata": {},
   "source": [
    "### Hyperparameter tuning for logistic regression"
   ]
  },
  {
   "cell_type": "code",
   "execution_count": 154,
   "metadata": {},
   "outputs": [],
   "source": [
    "classifier=LogisticRegression(C=1)"
   ]
  },
  {
   "cell_type": "code",
   "execution_count": 155,
   "metadata": {},
   "outputs": [
    {
     "name": "stdout",
     "output_type": "stream",
     "text": [
      "C: 0.1, Score : 0.9482897926205225\n",
      "C: 0.2, Score : 0.9490977646108268\n",
      "C: 0.3, Score : 0.949636412604363\n",
      "C: 0.4, Score : 0.9499057366011312\n",
      "C: 0.5, Score : 0.9501750605978992\n",
      "C: 0.6, Score : 0.9507137085914354\n",
      "C: 0.7, Score : 0.9501750605978992\n",
      "C: 0.8, Score : 0.9501750605978992\n",
      "C: 0.9, Score : 0.9528683005655804\n",
      "C: 1.0, Score : 0.952060328575276\n"
     ]
    }
   ],
   "source": [
    "previous_score=0\n",
    "for i in np.arange(0.1,1.1,0.1):\n",
    "    sub_classifier=LogisticRegression(max_iter=500, C=i, random_state=0)\n",
    "    sub_classifier.fit(X_train,y_train)\n",
    "    y_pred=sub_classifier.predict(X_test)\n",
    "    score = accuracy_score(y_test, y_pred)\n",
    "    if score>previous_score:\n",
    "        classifier=sub_classifier\n",
    "    print(\"C: {}, Score : {}\".format(round(i,1),score))"
   ]
  },
  {
   "cell_type": "markdown",
   "metadata": {},
   "source": [
    "#### Highest accuracy is obtained for the value of C=0.9"
   ]
  },
  {
   "cell_type": "markdown",
   "metadata": {},
   "source": [
    "### TF-IDF Vectorizer"
   ]
  },
  {
   "cell_type": "code",
   "execution_count": 156,
   "metadata": {},
   "outputs": [],
   "source": [
    "from sklearn.feature_extraction.text import TfidfVectorizer"
   ]
  },
  {
   "cell_type": "code",
   "execution_count": 157,
   "metadata": {},
   "outputs": [],
   "source": [
    "tfidf_v=TfidfVectorizer(max_features=5000,ngram_range=(1,1))"
   ]
  },
  {
   "cell_type": "code",
   "execution_count": 158,
   "metadata": {},
   "outputs": [
    {
     "data": {
      "text/plain": [
       "{'analyzer': 'word',\n",
       " 'binary': False,\n",
       " 'decode_error': 'strict',\n",
       " 'dtype': numpy.float64,\n",
       " 'encoding': 'utf-8',\n",
       " 'input': 'content',\n",
       " 'lowercase': True,\n",
       " 'max_df': 1.0,\n",
       " 'max_features': 5000,\n",
       " 'min_df': 1,\n",
       " 'ngram_range': (1, 1),\n",
       " 'norm': 'l2',\n",
       " 'preprocessor': None,\n",
       " 'smooth_idf': True,\n",
       " 'stop_words': None,\n",
       " 'strip_accents': None,\n",
       " 'sublinear_tf': False,\n",
       " 'token_pattern': '(?u)\\\\b\\\\w\\\\w+\\\\b',\n",
       " 'tokenizer': None,\n",
       " 'use_idf': True,\n",
       " 'vocabulary': None}"
      ]
     },
     "execution_count": 158,
     "metadata": {},
     "output_type": "execute_result"
    }
   ],
   "source": [
    "tfidf_v.get_params()"
   ]
  },
  {
   "cell_type": "code",
   "execution_count": 159,
   "metadata": {},
   "outputs": [],
   "source": [
    "# Independent variables"
   ]
  },
  {
   "cell_type": "code",
   "execution_count": 160,
   "metadata": {},
   "outputs": [],
   "source": [
    "X = tfidf_v.fit_transform(data_new[\"reviews\"]).toarray()"
   ]
  },
  {
   "cell_type": "code",
   "execution_count": 161,
   "metadata": {},
   "outputs": [
    {
     "data": {
      "text/plain": [
       "(18563, 5000)"
      ]
     },
     "execution_count": 161,
     "metadata": {},
     "output_type": "execute_result"
    }
   ],
   "source": [
    "X.shape"
   ]
  },
  {
   "cell_type": "code",
   "execution_count": 162,
   "metadata": {
    "scrolled": true
   },
   "outputs": [
    {
     "data": {
      "text/plain": [
       "['begin',\n",
       " 'beginning',\n",
       " 'behave',\n",
       " 'behaved',\n",
       " 'behavior',\n",
       " 'behaviour',\n",
       " 'behind',\n",
       " 'bel',\n",
       " 'belgian',\n",
       " 'belgium',\n",
       " 'believe',\n",
       " 'bell',\n",
       " 'bellandur',\n",
       " 'belly',\n",
       " 'benches',\n",
       " 'benedict',\n",
       " 'bengal',\n",
       " 'bengali',\n",
       " 'bengalis',\n",
       " 'bengaluru',\n",
       " 'benne',\n",
       " 'berries',\n",
       " 'berry',\n",
       " 'beside',\n",
       " 'besides',\n",
       " 'best',\n",
       " 'bet',\n",
       " 'better',\n",
       " 'beverage',\n",
       " 'beverages',\n",
       " 'beware',\n",
       " 'beyond',\n",
       " 'bhagini',\n",
       " 'bhaja',\n",
       " 'bhaji',\n",
       " 'bhajji',\n",
       " 'bhapa',\n",
       " 'bhara',\n",
       " 'bharta',\n",
       " 'bhatti',\n",
       " 'bhatura',\n",
       " 'bhature',\n",
       " 'bhel',\n",
       " 'bhetki',\n",
       " 'bhindi',\n",
       " 'bhuna',\n",
       " 'bhurji',\n",
       " 'biere',\n",
       " 'biergarten',\n",
       " 'big']"
      ]
     },
     "execution_count": 162,
     "metadata": {},
     "output_type": "execute_result"
    }
   ],
   "source": [
    "tfidf_v.get_feature_names()[500:550]"
   ]
  },
  {
   "cell_type": "code",
   "execution_count": 163,
   "metadata": {},
   "outputs": [],
   "source": [
    "# Dependent variable"
   ]
  },
  {
   "cell_type": "code",
   "execution_count": 164,
   "metadata": {},
   "outputs": [],
   "source": [
    "class_values = pd.get_dummies(data_new['Review_category'])\n",
    "class_values = class_values.drop(columns=\"Bad\")\n",
    "class_values = class_values.rename(columns={\"Bad\":\"Class\"})"
   ]
  },
  {
   "cell_type": "code",
   "execution_count": 165,
   "metadata": {},
   "outputs": [],
   "source": [
    "y = class_values.values.ravel()"
   ]
  },
  {
   "cell_type": "code",
   "execution_count": 166,
   "metadata": {},
   "outputs": [],
   "source": [
    "# Splitting the train test data"
   ]
  },
  {
   "cell_type": "code",
   "execution_count": 167,
   "metadata": {},
   "outputs": [],
   "source": [
    "X_train, X_test, y_train, y_test = train_test_split(X,y, test_size=0.2, random_state=0)"
   ]
  },
  {
   "cell_type": "code",
   "execution_count": 168,
   "metadata": {},
   "outputs": [],
   "source": [
    "# TFIDF vecotorized words"
   ]
  },
  {
   "cell_type": "code",
   "execution_count": 169,
   "metadata": {},
   "outputs": [
    {
     "data": {
      "text/html": [
       "<div>\n",
       "<style scoped>\n",
       "    .dataframe tbody tr th:only-of-type {\n",
       "        vertical-align: middle;\n",
       "    }\n",
       "\n",
       "    .dataframe tbody tr th {\n",
       "        vertical-align: top;\n",
       "    }\n",
       "\n",
       "    .dataframe thead th {\n",
       "        text-align: right;\n",
       "    }\n",
       "</style>\n",
       "<table border=\"1\" class=\"dataframe\">\n",
       "  <thead>\n",
       "    <tr style=\"text-align: right;\">\n",
       "      <th></th>\n",
       "      <th>05</th>\n",
       "      <th>10</th>\n",
       "      <th>100</th>\n",
       "      <th>1000</th>\n",
       "      <th>100ft</th>\n",
       "      <th>1010</th>\n",
       "      <th>1015</th>\n",
       "      <th>1030</th>\n",
       "      <th>10mins</th>\n",
       "      <th>10pm</th>\n",
       "      <th>...</th>\n",
       "      <th>â²ã</th>\n",
       "      <th>â³ã</th>\n",
       "      <th>âµã</th>\n",
       "      <th>â¹</th>\n",
       "      <th>â¹ã</th>\n",
       "      <th>âºã</th>\n",
       "      <th>â¼</th>\n",
       "      <th>â¼ã</th>\n",
       "      <th>â½ã</th>\n",
       "      <th>â¾ã</th>\n",
       "    </tr>\n",
       "  </thead>\n",
       "  <tbody>\n",
       "    <tr>\n",
       "      <th>0</th>\n",
       "      <td>0.0</td>\n",
       "      <td>0.037358</td>\n",
       "      <td>0.0</td>\n",
       "      <td>0.0</td>\n",
       "      <td>0.0</td>\n",
       "      <td>0.0</td>\n",
       "      <td>0.0</td>\n",
       "      <td>0.0</td>\n",
       "      <td>0.0</td>\n",
       "      <td>0.0</td>\n",
       "      <td>...</td>\n",
       "      <td>0.0</td>\n",
       "      <td>0.0</td>\n",
       "      <td>0.0</td>\n",
       "      <td>0.0</td>\n",
       "      <td>0.0</td>\n",
       "      <td>0.0</td>\n",
       "      <td>0.0</td>\n",
       "      <td>0.0</td>\n",
       "      <td>0.0</td>\n",
       "      <td>0.0</td>\n",
       "    </tr>\n",
       "    <tr>\n",
       "      <th>1</th>\n",
       "      <td>0.0</td>\n",
       "      <td>0.000000</td>\n",
       "      <td>0.0</td>\n",
       "      <td>0.0</td>\n",
       "      <td>0.0</td>\n",
       "      <td>0.0</td>\n",
       "      <td>0.0</td>\n",
       "      <td>0.0</td>\n",
       "      <td>0.0</td>\n",
       "      <td>0.0</td>\n",
       "      <td>...</td>\n",
       "      <td>0.0</td>\n",
       "      <td>0.0</td>\n",
       "      <td>0.0</td>\n",
       "      <td>0.0</td>\n",
       "      <td>0.0</td>\n",
       "      <td>0.0</td>\n",
       "      <td>0.0</td>\n",
       "      <td>0.0</td>\n",
       "      <td>0.0</td>\n",
       "      <td>0.0</td>\n",
       "    </tr>\n",
       "    <tr>\n",
       "      <th>2</th>\n",
       "      <td>0.0</td>\n",
       "      <td>0.031002</td>\n",
       "      <td>0.0</td>\n",
       "      <td>0.0</td>\n",
       "      <td>0.0</td>\n",
       "      <td>0.0</td>\n",
       "      <td>0.0</td>\n",
       "      <td>0.0</td>\n",
       "      <td>0.0</td>\n",
       "      <td>0.0</td>\n",
       "      <td>...</td>\n",
       "      <td>0.0</td>\n",
       "      <td>0.0</td>\n",
       "      <td>0.0</td>\n",
       "      <td>0.0</td>\n",
       "      <td>0.0</td>\n",
       "      <td>0.0</td>\n",
       "      <td>0.0</td>\n",
       "      <td>0.0</td>\n",
       "      <td>0.0</td>\n",
       "      <td>0.0</td>\n",
       "    </tr>\n",
       "    <tr>\n",
       "      <th>3</th>\n",
       "      <td>0.0</td>\n",
       "      <td>0.000000</td>\n",
       "      <td>0.0</td>\n",
       "      <td>0.0</td>\n",
       "      <td>0.0</td>\n",
       "      <td>0.0</td>\n",
       "      <td>0.0</td>\n",
       "      <td>0.0</td>\n",
       "      <td>0.0</td>\n",
       "      <td>0.0</td>\n",
       "      <td>...</td>\n",
       "      <td>0.0</td>\n",
       "      <td>0.0</td>\n",
       "      <td>0.0</td>\n",
       "      <td>0.0</td>\n",
       "      <td>0.0</td>\n",
       "      <td>0.0</td>\n",
       "      <td>0.0</td>\n",
       "      <td>0.0</td>\n",
       "      <td>0.0</td>\n",
       "      <td>0.0</td>\n",
       "    </tr>\n",
       "    <tr>\n",
       "      <th>4</th>\n",
       "      <td>0.0</td>\n",
       "      <td>0.030850</td>\n",
       "      <td>0.0</td>\n",
       "      <td>0.0</td>\n",
       "      <td>0.0</td>\n",
       "      <td>0.0</td>\n",
       "      <td>0.0</td>\n",
       "      <td>0.0</td>\n",
       "      <td>0.0</td>\n",
       "      <td>0.0</td>\n",
       "      <td>...</td>\n",
       "      <td>0.0</td>\n",
       "      <td>0.0</td>\n",
       "      <td>0.0</td>\n",
       "      <td>0.0</td>\n",
       "      <td>0.0</td>\n",
       "      <td>0.0</td>\n",
       "      <td>0.0</td>\n",
       "      <td>0.0</td>\n",
       "      <td>0.0</td>\n",
       "      <td>0.0</td>\n",
       "    </tr>\n",
       "  </tbody>\n",
       "</table>\n",
       "<p>5 rows × 5000 columns</p>\n",
       "</div>"
      ],
      "text/plain": [
       "    05        10  100  1000  100ft  1010  1015  1030  10mins  10pm  ...  â²ã  \\\n",
       "0  0.0  0.037358  0.0   0.0    0.0   0.0   0.0   0.0     0.0   0.0  ...  0.0   \n",
       "1  0.0  0.000000  0.0   0.0    0.0   0.0   0.0   0.0     0.0   0.0  ...  0.0   \n",
       "2  0.0  0.031002  0.0   0.0    0.0   0.0   0.0   0.0     0.0   0.0  ...  0.0   \n",
       "3  0.0  0.000000  0.0   0.0    0.0   0.0   0.0   0.0     0.0   0.0  ...  0.0   \n",
       "4  0.0  0.030850  0.0   0.0    0.0   0.0   0.0   0.0     0.0   0.0  ...  0.0   \n",
       "\n",
       "   â³ã  âµã   â¹  â¹ã  âºã   â¼  â¼ã  â½ã  â¾ã  \n",
       "0  0.0  0.0  0.0  0.0  0.0  0.0  0.0  0.0  0.0  \n",
       "1  0.0  0.0  0.0  0.0  0.0  0.0  0.0  0.0  0.0  \n",
       "2  0.0  0.0  0.0  0.0  0.0  0.0  0.0  0.0  0.0  \n",
       "3  0.0  0.0  0.0  0.0  0.0  0.0  0.0  0.0  0.0  \n",
       "4  0.0  0.0  0.0  0.0  0.0  0.0  0.0  0.0  0.0  \n",
       "\n",
       "[5 rows x 5000 columns]"
      ]
     },
     "execution_count": 169,
     "metadata": {},
     "output_type": "execute_result"
    }
   ],
   "source": [
    "count_df = pd.DataFrame(X_train, columns=tfidf_v.get_feature_names())\n",
    "count_df.head()"
   ]
  },
  {
   "cell_type": "markdown",
   "metadata": {},
   "source": [
    "### Naive Bayes Model"
   ]
  },
  {
   "cell_type": "code",
   "execution_count": 170,
   "metadata": {},
   "outputs": [],
   "source": [
    "from sklearn.naive_bayes import MultinomialNB"
   ]
  },
  {
   "cell_type": "code",
   "execution_count": 171,
   "metadata": {},
   "outputs": [],
   "source": [
    "nb_classifier = MultinomialNB()"
   ]
  },
  {
   "cell_type": "code",
   "execution_count": 172,
   "metadata": {},
   "outputs": [
    {
     "data": {
      "text/plain": [
       "MultinomialNB(alpha=1.0, class_prior=None, fit_prior=True)"
      ]
     },
     "execution_count": 172,
     "metadata": {},
     "output_type": "execute_result"
    }
   ],
   "source": [
    "nb_classifier.fit(X_train, y_train)"
   ]
  },
  {
   "cell_type": "code",
   "execution_count": 173,
   "metadata": {},
   "outputs": [],
   "source": [
    "# Predicting the values"
   ]
  },
  {
   "cell_type": "code",
   "execution_count": 174,
   "metadata": {},
   "outputs": [],
   "source": [
    "y_pred_train = nb_classifier.predict(X_train)\n",
    "y_pred_test = nb_classifier.predict(X_test)"
   ]
  },
  {
   "cell_type": "code",
   "execution_count": 175,
   "metadata": {},
   "outputs": [],
   "source": [
    "# Confusion matrix"
   ]
  },
  {
   "cell_type": "code",
   "execution_count": 176,
   "metadata": {},
   "outputs": [],
   "source": [
    "from sklearn.metrics import confusion_matrix\n",
    "from sklearn.metrics import accuracy_score, precision_score, recall_score"
   ]
  },
  {
   "cell_type": "code",
   "execution_count": 177,
   "metadata": {},
   "outputs": [
    {
     "data": {
      "text/plain": [
       "array([[ 1322,  2135],\n",
       "       [  316, 11077]], dtype=int64)"
      ]
     },
     "execution_count": 177,
     "metadata": {},
     "output_type": "execute_result"
    }
   ],
   "source": [
    "confusion_matrix(y_train, y_pred_train)"
   ]
  },
  {
   "cell_type": "code",
   "execution_count": 178,
   "metadata": {},
   "outputs": [
    {
     "data": {
      "text/plain": [
       "array([[ 308,  533],\n",
       "       [  95, 2777]], dtype=int64)"
      ]
     },
     "execution_count": 178,
     "metadata": {},
     "output_type": "execute_result"
    }
   ],
   "source": [
    "confusion_matrix(y_test, y_pred_test)"
   ]
  },
  {
   "cell_type": "code",
   "execution_count": 179,
   "metadata": {},
   "outputs": [],
   "source": [
    "# Checking accuracy, precision and recall"
   ]
  },
  {
   "cell_type": "code",
   "execution_count": 180,
   "metadata": {},
   "outputs": [],
   "source": [
    "# For training"
   ]
  },
  {
   "cell_type": "code",
   "execution_count": 181,
   "metadata": {},
   "outputs": [],
   "source": [
    "accuracy = accuracy_score(y_train, y_pred_train)\n",
    "precision = precision_score(y_train, y_pred_train)\n",
    "recall = recall_score(y_train, y_pred_train)"
   ]
  },
  {
   "cell_type": "code",
   "execution_count": 182,
   "metadata": {},
   "outputs": [
    {
     "name": "stdout",
     "output_type": "stream",
     "text": [
      "Accuracy for train:  0.834949494949495\n",
      "Precision for train:  0.838404480775053\n",
      "Recall for train:  0.9722636706749759\n"
     ]
    }
   ],
   "source": [
    "print(\"Accuracy for train: \", accuracy)\n",
    "print(\"Precision for train: \", precision)\n",
    "print(\"Recall for train: \", recall)"
   ]
  },
  {
   "cell_type": "code",
   "execution_count": 183,
   "metadata": {},
   "outputs": [],
   "source": [
    "# For testing"
   ]
  },
  {
   "cell_type": "code",
   "execution_count": 184,
   "metadata": {},
   "outputs": [],
   "source": [
    "accuracy = accuracy_score(y_test, y_pred_test)\n",
    "precision = precision_score(y_test, y_pred_test)\n",
    "recall = recall_score(y_test, y_pred_test)"
   ]
  },
  {
   "cell_type": "code",
   "execution_count": 185,
   "metadata": {
    "scrolled": true
   },
   "outputs": [
    {
     "name": "stdout",
     "output_type": "stream",
     "text": [
      "Accuracy for test:  0.8308645300296257\n",
      "Precision for test:  0.8389728096676737\n",
      "Recall for test:  0.9669220055710307\n"
     ]
    }
   ],
   "source": [
    "print(\"Accuracy for test: \", accuracy)\n",
    "print(\"Precision for test: \", precision)\n",
    "print(\"Recall for test: \", recall)"
   ]
  },
  {
   "cell_type": "markdown",
   "metadata": {},
   "source": [
    "### Using Bernoullis NB"
   ]
  },
  {
   "cell_type": "code",
   "execution_count": 186,
   "metadata": {},
   "outputs": [],
   "source": [
    "from sklearn.naive_bayes import BernoulliNB"
   ]
  },
  {
   "cell_type": "code",
   "execution_count": 187,
   "metadata": {},
   "outputs": [],
   "source": [
    "brnb = BernoulliNB()"
   ]
  },
  {
   "cell_type": "code",
   "execution_count": 188,
   "metadata": {},
   "outputs": [
    {
     "data": {
      "text/plain": [
       "BernoulliNB(alpha=1.0, binarize=0.0, class_prior=None, fit_prior=True)"
      ]
     },
     "execution_count": 188,
     "metadata": {},
     "output_type": "execute_result"
    }
   ],
   "source": [
    "brnb.fit(X_train,y_train)"
   ]
  },
  {
   "cell_type": "code",
   "execution_count": 189,
   "metadata": {},
   "outputs": [],
   "source": [
    "# Predicting the target values"
   ]
  },
  {
   "cell_type": "code",
   "execution_count": 190,
   "metadata": {},
   "outputs": [],
   "source": [
    "pred_train_brnb = brnb.predict(X_train)\n",
    "pred_brnb = brnb.predict(X_test)"
   ]
  },
  {
   "cell_type": "code",
   "execution_count": 191,
   "metadata": {},
   "outputs": [],
   "source": [
    "# Probability values"
   ]
  },
  {
   "cell_type": "code",
   "execution_count": 193,
   "metadata": {},
   "outputs": [
    {
     "data": {
      "text/plain": [
       "array([[1.00000000e+000, 3.72372629e-051],\n",
       "       [1.00000000e+000, 8.15301936e-047],\n",
       "       [1.00000000e+000, 1.60107179e-043],\n",
       "       ...,\n",
       "       [1.56199290e-131, 1.00000000e+000],\n",
       "       [6.69967431e-181, 1.00000000e+000],\n",
       "       [1.00000000e+000, 3.92760933e-034]])"
      ]
     },
     "execution_count": 193,
     "metadata": {},
     "output_type": "execute_result"
    }
   ],
   "source": [
    "brnb.predict_proba(X_test)"
   ]
  },
  {
   "cell_type": "code",
   "execution_count": 194,
   "metadata": {},
   "outputs": [],
   "source": [
    "# Confusion matrix"
   ]
  },
  {
   "cell_type": "code",
   "execution_count": 195,
   "metadata": {},
   "outputs": [
    {
     "data": {
      "text/plain": [
       "array([[2904,  553],\n",
       "       [5905, 5488]], dtype=int64)"
      ]
     },
     "execution_count": 195,
     "metadata": {},
     "output_type": "execute_result"
    }
   ],
   "source": [
    "confusion_matrix(y_train,pred_train_brnb)"
   ]
  },
  {
   "cell_type": "code",
   "execution_count": 196,
   "metadata": {},
   "outputs": [
    {
     "data": {
      "text/plain": [
       "array([[ 697,  144],\n",
       "       [1480, 1392]], dtype=int64)"
      ]
     },
     "execution_count": 196,
     "metadata": {},
     "output_type": "execute_result"
    }
   ],
   "source": [
    "confusion_matrix(y_test,pred_brnb)"
   ]
  },
  {
   "cell_type": "code",
   "execution_count": 197,
   "metadata": {},
   "outputs": [],
   "source": [
    "# Accuracy"
   ]
  },
  {
   "cell_type": "code",
   "execution_count": 198,
   "metadata": {},
   "outputs": [
    {
     "data": {
      "text/plain": [
       "0.5651178451178451"
      ]
     },
     "execution_count": 198,
     "metadata": {},
     "output_type": "execute_result"
    }
   ],
   "source": [
    "train_accuracy = accuracy_score(y_train,pred_train_brnb)\n",
    "train_accuracy"
   ]
  },
  {
   "cell_type": "code",
   "execution_count": 199,
   "metadata": {},
   "outputs": [
    {
     "data": {
      "text/plain": [
       "0.562617829248586"
      ]
     },
     "execution_count": 199,
     "metadata": {},
     "output_type": "execute_result"
    }
   ],
   "source": [
    "test_accuracy = accuracy_score(y_test,pred_brnb)\n",
    "test_accuracy"
   ]
  },
  {
   "cell_type": "markdown",
   "metadata": {},
   "source": [
    "### Hyperparameter tuning of Naive Bayes model"
   ]
  },
  {
   "cell_type": "code",
   "execution_count": 200,
   "metadata": {},
   "outputs": [],
   "source": [
    "# Tuning the parameter 'alpha' to improve the accuracy"
   ]
  },
  {
   "cell_type": "code",
   "execution_count": 201,
   "metadata": {},
   "outputs": [],
   "source": [
    "classifier=MultinomialNB(alpha=0.1)"
   ]
  },
  {
   "cell_type": "code",
   "execution_count": 202,
   "metadata": {},
   "outputs": [
    {
     "name": "stdout",
     "output_type": "stream",
     "text": [
      "Alpha: 0.1, Score : 0.8308645300296257\n",
      "Alpha: 0.2, Score : 0.8308645300296257\n",
      "Alpha: 0.3, Score : 0.8308645300296257\n",
      "Alpha: 0.4, Score : 0.8305952060328575\n",
      "Alpha: 0.5, Score : 0.8284406140587126\n",
      "Alpha: 0.6, Score : 0.8287099380554808\n",
      "Alpha: 0.7, Score : 0.827093994074872\n",
      "Alpha: 0.8, Score : 0.8279019660651764\n",
      "Alpha: 0.9, Score : 0.8308645300296257\n",
      "Alpha: 1.0, Score : 0.8308645300296257\n"
     ]
    }
   ],
   "source": [
    "previous_score=0\n",
    "for alpha in np.arange(0.1,1.1,0.1):\n",
    "    sub_classifier=MultinomialNB(alpha=alpha)\n",
    "    sub_classifier.fit(X_train,y_train)\n",
    "    y_pred=sub_classifier.predict(X_test)\n",
    "    score = accuracy_score(y_test, y_pred)\n",
    "    if score>previous_score:\n",
    "        classifier=sub_classifier\n",
    "    print(\"Alpha: {}, Score : {}\".format(round(alpha,1),score))"
   ]
  },
  {
   "cell_type": "markdown",
   "metadata": {},
   "source": [
    "#### Highest accuracy is obtanined for the value alpha = 1.0"
   ]
  },
  {
   "cell_type": "markdown",
   "metadata": {},
   "source": [
    "### Logistic regression model"
   ]
  },
  {
   "cell_type": "code",
   "execution_count": 203,
   "metadata": {},
   "outputs": [],
   "source": [
    "lr_classifier = LogisticRegression(max_iter=500, random_state=0)"
   ]
  },
  {
   "cell_type": "code",
   "execution_count": 204,
   "metadata": {},
   "outputs": [
    {
     "data": {
      "text/plain": [
       "LogisticRegression(C=1.0, class_weight=None, dual=False, fit_intercept=True,\n",
       "                   intercept_scaling=1, l1_ratio=None, max_iter=500,\n",
       "                   multi_class='auto', n_jobs=None, penalty='l2',\n",
       "                   random_state=0, solver='lbfgs', tol=0.0001, verbose=0,\n",
       "                   warm_start=False)"
      ]
     },
     "execution_count": 204,
     "metadata": {},
     "output_type": "execute_result"
    }
   ],
   "source": [
    "lr_classifier.fit(X_train, y_train)"
   ]
  },
  {
   "cell_type": "code",
   "execution_count": 205,
   "metadata": {},
   "outputs": [],
   "source": [
    "# Predicting the values"
   ]
  },
  {
   "cell_type": "code",
   "execution_count": 206,
   "metadata": {},
   "outputs": [],
   "source": [
    "y_pred_train = lr_classifier.predict(X_train)"
   ]
  },
  {
   "cell_type": "code",
   "execution_count": 207,
   "metadata": {},
   "outputs": [],
   "source": [
    "y_pred_test = lr_classifier.predict(X_test)"
   ]
  },
  {
   "cell_type": "code",
   "execution_count": 208,
   "metadata": {},
   "outputs": [],
   "source": [
    "# Confusion matrix"
   ]
  },
  {
   "cell_type": "code",
   "execution_count": 209,
   "metadata": {},
   "outputs": [
    {
     "data": {
      "text/plain": [
       "array([[ 2571,   886],\n",
       "       [  168, 11225]], dtype=int64)"
      ]
     },
     "execution_count": 209,
     "metadata": {},
     "output_type": "execute_result"
    }
   ],
   "source": [
    "confusion_matrix(y_train, y_pred_train)"
   ]
  },
  {
   "cell_type": "code",
   "execution_count": 210,
   "metadata": {},
   "outputs": [
    {
     "data": {
      "text/plain": [
       "array([[ 608,  233],\n",
       "       [  64, 2808]], dtype=int64)"
      ]
     },
     "execution_count": 210,
     "metadata": {},
     "output_type": "execute_result"
    }
   ],
   "source": [
    "confusion_matrix(y_test, y_pred_test)"
   ]
  },
  {
   "cell_type": "code",
   "execution_count": 211,
   "metadata": {},
   "outputs": [],
   "source": [
    "# Accuracy score, precision and recall"
   ]
  },
  {
   "cell_type": "code",
   "execution_count": 212,
   "metadata": {},
   "outputs": [],
   "source": [
    "# For training"
   ]
  },
  {
   "cell_type": "code",
   "execution_count": 213,
   "metadata": {},
   "outputs": [],
   "source": [
    "Accuracy = accuracy_score(y_train, y_pred_train)\n",
    "Precision = precision_score(y_train, y_pred_train)\n",
    "Recall = recall_score(y_train, y_pred_train)"
   ]
  },
  {
   "cell_type": "code",
   "execution_count": 214,
   "metadata": {},
   "outputs": [
    {
     "name": "stdout",
     "output_type": "stream",
     "text": [
      "Accuracy for train:  0.929023569023569\n",
      "Precision for train:  0.9268433655354636\n",
      "Recall for train:  0.9852541033968226\n"
     ]
    }
   ],
   "source": [
    "print(\"Accuracy for train: \", Accuracy)\n",
    "print(\"Precision for train: \", Precision)\n",
    "print(\"Recall for train: \", Recall)"
   ]
  },
  {
   "cell_type": "code",
   "execution_count": 215,
   "metadata": {},
   "outputs": [],
   "source": [
    "# For testing"
   ]
  },
  {
   "cell_type": "code",
   "execution_count": 216,
   "metadata": {},
   "outputs": [],
   "source": [
    "Accuracy = accuracy_score(y_test, y_pred_test)\n",
    "Precision = precision_score(y_test, y_pred_test)\n",
    "Recall = recall_score(y_test, y_pred_test)"
   ]
  },
  {
   "cell_type": "code",
   "execution_count": 217,
   "metadata": {},
   "outputs": [
    {
     "name": "stdout",
     "output_type": "stream",
     "text": [
      "Accuracy for test:  0.9200107729598708\n",
      "Precision for test:  0.9233804669516607\n",
      "Recall for test:  0.9777158774373259\n"
     ]
    }
   ],
   "source": [
    "print(\"Accuracy for test: \", Accuracy)\n",
    "print(\"Precision for test: \", Precision)\n",
    "print(\"Recall for test: \", Recall)"
   ]
  },
  {
   "cell_type": "markdown",
   "metadata": {},
   "source": [
    "### Hyperparameter tuning for logistic regression"
   ]
  },
  {
   "cell_type": "code",
   "execution_count": 218,
   "metadata": {},
   "outputs": [],
   "source": [
    "classifier=LogisticRegression(C=1)"
   ]
  },
  {
   "cell_type": "code",
   "execution_count": 219,
   "metadata": {},
   "outputs": [
    {
     "name": "stdout",
     "output_type": "stream",
     "text": [
      "C: 0.1, Score : 0.8747643415028279\n",
      "C: 0.2, Score : 0.8884998653380016\n",
      "C: 0.3, Score : 0.8973875572313493\n",
      "C: 0.4, Score : 0.9068138971182332\n",
      "C: 0.5, Score : 0.9103151090762187\n",
      "C: 0.6, Score : 0.9143549690277404\n",
      "C: 0.7, Score : 0.9162402370051171\n",
      "C: 0.8, Score : 0.9175868569889577\n",
      "C: 0.9, Score : 0.9181255049824939\n",
      "C: 1.0, Score : 0.9200107729598708\n"
     ]
    }
   ],
   "source": [
    "previous_score=0\n",
    "for i in np.arange(0.1,1.1,0.1):\n",
    "    sub_classifier=LogisticRegression(max_iter=500, C=i, random_state=0)\n",
    "    sub_classifier.fit(X_train,y_train)\n",
    "    y_pred=sub_classifier.predict(X_test)\n",
    "    score = accuracy_score(y_test, y_pred)\n",
    "    if score>previous_score:\n",
    "        classifier=sub_classifier\n",
    "    print(\"C: {}, Score : {}\".format(round(i,1),score))"
   ]
  },
  {
   "cell_type": "markdown",
   "metadata": {},
   "source": [
    "#### Highest accuracy is obtained for the value of C=1"
   ]
  },
  {
   "cell_type": "code",
   "execution_count": null,
   "metadata": {},
   "outputs": [],
   "source": []
  },
  {
   "cell_type": "code",
   "execution_count": null,
   "metadata": {},
   "outputs": [],
   "source": []
  },
  {
   "cell_type": "code",
   "execution_count": null,
   "metadata": {},
   "outputs": [],
   "source": []
  }
 ],
 "metadata": {
  "kernelspec": {
   "display_name": "Python 3",
   "language": "python",
   "name": "python3"
  },
  "language_info": {
   "codemirror_mode": {
    "name": "ipython",
    "version": 3
   },
   "file_extension": ".py",
   "mimetype": "text/x-python",
   "name": "python",
   "nbconvert_exporter": "python",
   "pygments_lexer": "ipython3",
   "version": "3.7.4"
  },
  "papermill": {
   "duration": 327.179653,
   "end_time": "2020-09-08T15:07:33.028246",
   "environment_variables": {},
   "exception": null,
   "input_path": "__notebook__.ipynb",
   "output_path": "__notebook__.ipynb",
   "parameters": {},
   "start_time": "2020-09-08T15:02:05.848593",
   "version": "2.1.0"
  }
 },
 "nbformat": 4,
 "nbformat_minor": 4
}
